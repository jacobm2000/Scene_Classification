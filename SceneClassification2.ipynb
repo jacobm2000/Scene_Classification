{
 "cells": [
  {
   "cell_type": "code",
   "execution_count": null,
   "id": "1bcc8422",
   "metadata": {},
   "outputs": [],
   "source": [
    "This version of scene classifction is an attempt to improve on the models first \n",
    "implemented earlier using a more robust knowlenge of CNN layers and data augmentation"
   ]
  },
  {
   "cell_type": "code",
   "execution_count": 3,
   "id": "7e45cb6b",
   "metadata": {
    "scrolled": true
   },
   "outputs": [],
   "source": [
    "import matplotlib.pyplot as plt\n",
    "import tensorflow as tf\n",
    "import pandas as pd\n",
    "df=pd.read_csv('./train.csv')\n",
    "from tensorflow.keras import datasets, layers, models\n",
    "import os\n",
    "from os import listdir\n",
    "from PIL import Image\n",
    "import pandas as pd\n",
    "import tensorflow as tf\n",
    "from tensorflow import keras\n",
    "import numpy as np\n",
    "from tensorflow.keras import datasets, layers, models\n"
   ]
  },
  {
   "cell_type": "code",
   "execution_count": 3,
   "id": "035747bf",
   "metadata": {},
   "outputs": [
    {
     "name": "stdout",
     "output_type": "stream",
     "text": [
      "      label image_name\n",
      "0         5   6396.jpg\n",
      "1         5   5728.jpg\n",
      "2         1  13122.jpg\n",
      "3         2  10505.jpg\n",
      "4         0   6587.jpg\n",
      "...     ...        ...\n",
      "12770     0  21279.jpg\n",
      "12771     2   3885.jpg\n",
      "12772     0   2871.jpg\n",
      "12773     1   2535.jpg\n",
      "12774     1  23613.jpg\n",
      "\n",
      "[12775 rows x 2 columns]\n"
     ]
    },
    {
     "data": {
      "text/html": [
       "<div>\n",
       "<style scoped>\n",
       "    .dataframe tbody tr th:only-of-type {\n",
       "        vertical-align: middle;\n",
       "    }\n",
       "\n",
       "    .dataframe tbody tr th {\n",
       "        vertical-align: top;\n",
       "    }\n",
       "\n",
       "    .dataframe thead th {\n",
       "        text-align: right;\n",
       "    }\n",
       "</style>\n",
       "<table border=\"1\" class=\"dataframe\">\n",
       "  <thead>\n",
       "    <tr style=\"text-align: right;\">\n",
       "      <th></th>\n",
       "      <th>label</th>\n",
       "      <th>image_name</th>\n",
       "    </tr>\n",
       "  </thead>\n",
       "  <tbody>\n",
       "    <tr>\n",
       "      <th>0</th>\n",
       "      <td>1</td>\n",
       "      <td>21677.jpg</td>\n",
       "    </tr>\n",
       "    <tr>\n",
       "      <th>1</th>\n",
       "      <td>4</td>\n",
       "      <td>7369.jpg</td>\n",
       "    </tr>\n",
       "    <tr>\n",
       "      <th>2</th>\n",
       "      <td>1</td>\n",
       "      <td>17780.jpg</td>\n",
       "    </tr>\n",
       "    <tr>\n",
       "      <th>3</th>\n",
       "      <td>1</td>\n",
       "      <td>10154.jpg</td>\n",
       "    </tr>\n",
       "    <tr>\n",
       "      <th>4</th>\n",
       "      <td>0</td>\n",
       "      <td>7636.jpg</td>\n",
       "    </tr>\n",
       "    <tr>\n",
       "      <th>...</th>\n",
       "      <td>...</td>\n",
       "      <td>...</td>\n",
       "    </tr>\n",
       "    <tr>\n",
       "      <th>4254</th>\n",
       "      <td>1</td>\n",
       "      <td>21587.jpg</td>\n",
       "    </tr>\n",
       "    <tr>\n",
       "      <th>4255</th>\n",
       "      <td>4</td>\n",
       "      <td>13375.jpg</td>\n",
       "    </tr>\n",
       "    <tr>\n",
       "      <th>4256</th>\n",
       "      <td>2</td>\n",
       "      <td>19284.jpg</td>\n",
       "    </tr>\n",
       "    <tr>\n",
       "      <th>4257</th>\n",
       "      <td>4</td>\n",
       "      <td>6381.jpg</td>\n",
       "    </tr>\n",
       "    <tr>\n",
       "      <th>4258</th>\n",
       "      <td>3</td>\n",
       "      <td>6934.jpg</td>\n",
       "    </tr>\n",
       "  </tbody>\n",
       "</table>\n",
       "<p>4259 rows × 2 columns</p>\n",
       "</div>"
      ],
      "text/plain": [
       "     label image_name\n",
       "0        1  21677.jpg\n",
       "1        4   7369.jpg\n",
       "2        1  17780.jpg\n",
       "3        1  10154.jpg\n",
       "4        0   7636.jpg\n",
       "...    ...        ...\n",
       "4254     1  21587.jpg\n",
       "4255     4  13375.jpg\n",
       "4256     2  19284.jpg\n",
       "4257     4   6381.jpg\n",
       "4258     3   6934.jpg\n",
       "\n",
       "[4259 rows x 2 columns]"
      ]
     },
     "execution_count": 3,
     "metadata": {},
     "output_type": "execute_result"
    }
   ],
   "source": [
    "from sklearn.model_selection import train_test_split\n",
    "X=df['image_name'].tolist()\n",
    "y=df['label'].astype(str).tolist()\n",
    "X_train, X_valid, y_train, y_valid = train_test_split(X, y)\n",
    "train=pd.DataFrame(X_train,y_train)\n",
    "train.reset_index(inplace=True)\n",
    "train = train.rename(columns = {'index':'label'})\n",
    "train = train.rename(columns = {0:'image_name'})\n",
    "print(train)\n",
    "\n",
    "valid=pd.DataFrame(X_valid,y_valid)\n",
    "valid.reset_index(inplace=True)\n",
    "valid = valid.rename(columns = {'index':'label'})\n",
    "valid = valid.rename(columns = {0:'image_name'})\n",
    "valid"
   ]
  },
  {
   "cell_type": "code",
   "execution_count": 4,
   "id": "d068cc8c",
   "metadata": {},
   "outputs": [
    {
     "name": "stderr",
     "output_type": "stream",
     "text": [
      "C:\\Users\\maure\\anaconda3\\envs\\tf-gpu2\\lib\\site-packages\\keras_preprocessing\\image\\image_data_generator.py:337: UserWarning: This ImageDataGenerator specifies `zca_whitening`, which overrides setting of `featurewise_center`.\n",
      "  warnings.warn('This ImageDataGenerator specifies '\n"
     ]
    },
    {
     "name": "stdout",
     "output_type": "stream",
     "text": [
      "Found 12775 validated image filenames belonging to 6 classes.\n",
      "Found 4259 validated image filenames belonging to 6 classes.\n"
     ]
    },
    {
     "name": "stderr",
     "output_type": "stream",
     "text": [
      "C:\\Users\\maure\\anaconda3\\envs\\tf-gpu2\\lib\\site-packages\\keras_preprocessing\\image\\image_data_generator.py:720: UserWarning: This ImageDataGenerator specifies `featurewise_center`, but it hasn't been fit on any training data. Fit it first by calling `.fit(numpy_data)`.\n",
      "  warnings.warn('This ImageDataGenerator specifies '\n",
      "C:\\Users\\maure\\anaconda3\\envs\\tf-gpu2\\lib\\site-packages\\keras_preprocessing\\image\\image_data_generator.py:739: UserWarning: This ImageDataGenerator specifies `zca_whitening`, but it hasn't been fit on any training data. Fit it first by calling `.fit(numpy_data)`.\n",
      "  warnings.warn('This ImageDataGenerator specifies '\n"
     ]
    },
    {
     "name": "stdout",
     "output_type": "stream",
     "text": [
      "(20, 150, 150, 3)\n",
      "(150, 150, 3)\n"
     ]
    },
    {
     "data": {
      "text/plain": [
       "<matplotlib.image.AxesImage at 0x201e4c1fee0>"
      ]
     },
     "execution_count": 4,
     "metadata": {},
     "output_type": "execute_result"
    },
    {
     "data": {
      "image/png": "[encoded data removed]",
      "text/plain": [
       "<Figure size 432x288 with 1 Axes>"
      ]
     },
     "metadata": {
      "needs_background": "light"
     },
     "output_type": "display_data"
    }
   ],
   "source": [
    "from tensorflow.keras.preprocessing import  image\n",
    "folder_dir = \"./train/\"\n",
    "datagen_train=image.ImageDataGenerator(rescale=1/255, shear_range=0.1,\n",
    "                                             zoom_range=0.3,\n",
    "                                       rotation_range=25,\n",
    "                                       channel_shift_range=.2,\n",
    "                                               horizontal_flip=True,\n",
    "                                      zca_whitening=True)\n",
    "datagen=image.ImageDataGenerator(rescale=1/255)\n",
    "df.label=df.label.astype(str)\n",
    "train_gen=datagen_train.flow_from_dataframe(dataframe=train,directory=folder_dir,batch_size=20,\n",
    "class_mode=\"categorical\",x_col='image_name',color_mode=\"rgb\", y_col='label',target_size=(150,150))\n",
    "\n",
    "valid_gen=datagen.flow_from_dataframe(dataframe=valid,directory=folder_dir,batch_size=5,\n",
    "class_mode=\"categorical\",x_col='image_name',color_mode=\"rgb\", y_col='label',target_size=(150,150))\n",
    "batch=next(train_gen)  # returns the next batch of images and labels \n",
    "print(batch[0].shape) # batch[0] is the images, batch[1] are the labels\n",
    "img=batch[0][0]   # this is the first image  batch[0][1] would be the next image\n",
    "print (img.shape)\n",
    "plt.imshow(img) "
   ]
  },
  {
   "cell_type": "code",
   "execution_count": 5,
   "id": "db315434",
   "metadata": {},
   "outputs": [],
   "source": [
    "kernel=(3,3)\n",
    "model = models.Sequential()\n",
    "model.add(layers.Conv2D(32, kernel,activation=\"relu\",input_shape=(150,150,3)))\n",
    "model.add(layers.BatchNormalization())\n",
    "model.add(layers.MaxPooling2D(pool_size=(2, 2)))\n",
    "model.add(layers.Conv2D(64, kernel,activation=\"relu\",input_shape=(150,150,3)))\n",
    "model.add(layers.BatchNormalization())\n",
    "model.add(layers.MaxPooling2D(pool_size=(2, 2)))\n",
    "model.add(layers.Conv2D(128, kernel,activation=\"relu\",input_shape=(150,150,3)))\n",
    "model.add(layers.BatchNormalization())\n",
    "model.add(layers.MaxPooling2D(pool_size=(2, 2)))\n",
    "model.add(layers.Flatten())\n",
    "\n",
    "model.add(layers.Dense(128, activation='relu'))\n",
    "model.add(layers.Dense(6, activation='softmax'))\n",
    "\n",
    "model.compile(loss='categorical_crossentropy', optimizer='adam', metrics=['categorical_accuracy'])"
   ]
  },
  {
   "cell_type": "code",
   "execution_count": 6,
   "id": "f18f2186",
   "metadata": {},
   "outputs": [
    {
     "name": "stdout",
     "output_type": "stream",
     "text": [
      "Epoch 1/20\n",
      "639/639 [==============================] - 147s 222ms/step - loss: 1.5693 - categorical_accuracy: 0.5479 - val_loss: 0.8990 - val_categorical_accuracy: 0.7000\n",
      "Epoch 2/20\n",
      "639/639 [==============================] - 85s 134ms/step - loss: 0.8784 - categorical_accuracy: 0.6836 - val_loss: 0.6600 - val_categorical_accuracy: 0.7800\n",
      "Epoch 3/20\n",
      "639/639 [==============================] - 84s 132ms/step - loss: 0.7506 - categorical_accuracy: 0.7333 - val_loss: 1.1002 - val_categorical_accuracy: 0.5600\n",
      "Epoch 4/20\n",
      "639/639 [==============================] - 85s 134ms/step - loss: 0.6836 - categorical_accuracy: 0.7598 - val_loss: 0.6433 - val_categorical_accuracy: 0.7400\n",
      "Epoch 5/20\n",
      "639/639 [==============================] - 83s 129ms/step - loss: 0.6253 - categorical_accuracy: 0.7832 - val_loss: 0.6795 - val_categorical_accuracy: 0.7600\n",
      "Epoch 6/20\n",
      "639/639 [==============================] - 84s 131ms/step - loss: 0.5973 - categorical_accuracy: 0.7940 - val_loss: 1.1783 - val_categorical_accuracy: 0.6600\n",
      "Epoch 7/20\n",
      "639/639 [==============================] - 83s 130ms/step - loss: 0.5712 - categorical_accuracy: 0.8041 - val_loss: 0.4445 - val_categorical_accuracy: 0.8600\n",
      "Epoch 8/20\n",
      "639/639 [==============================] - 84s 131ms/step - loss: 0.5444 - categorical_accuracy: 0.8068 - val_loss: 1.5234 - val_categorical_accuracy: 0.5400\n",
      "Epoch 9/20\n",
      "639/639 [==============================] - 84s 131ms/step - loss: 0.5224 - categorical_accuracy: 0.8175 - val_loss: 0.6829 - val_categorical_accuracy: 0.8200\n",
      "Epoch 10/20\n",
      "639/639 [==============================] - 82s 129ms/step - loss: 0.4906 - categorical_accuracy: 0.8313 - val_loss: 1.2639 - val_categorical_accuracy: 0.6200\n",
      "Epoch 11/20\n",
      "639/639 [==============================] - 83s 130ms/step - loss: 0.5016 - categorical_accuracy: 0.8274 - val_loss: 1.0328 - val_categorical_accuracy: 0.6400\n",
      "Epoch 12/20\n",
      "639/639 [==============================] - 84s 131ms/step - loss: 0.4764 - categorical_accuracy: 0.8355 - val_loss: 0.8990 - val_categorical_accuracy: 0.7400\n",
      "Epoch 13/20\n",
      "639/639 [==============================] - 83s 130ms/step - loss: 0.4659 - categorical_accuracy: 0.8398 - val_loss: 0.3738 - val_categorical_accuracy: 0.8600\n",
      "Epoch 14/20\n",
      "639/639 [==============================] - 83s 129ms/step - loss: 0.4470 - categorical_accuracy: 0.8450 - val_loss: 0.4346 - val_categorical_accuracy: 0.8800\n",
      "Epoch 15/20\n",
      "639/639 [==============================] - 83s 130ms/step - loss: 0.4417 - categorical_accuracy: 0.8479 - val_loss: 0.9102 - val_categorical_accuracy: 0.7600\n",
      "Epoch 16/20\n",
      "639/639 [==============================] - 84s 131ms/step - loss: 0.4370 - categorical_accuracy: 0.8476 - val_loss: 0.8536 - val_categorical_accuracy: 0.7200\n",
      "Epoch 17/20\n",
      "639/639 [==============================] - 84s 132ms/step - loss: 0.4231 - categorical_accuracy: 0.8497 - val_loss: 1.2539 - val_categorical_accuracy: 0.7000\n",
      "Epoch 18/20\n",
      "639/639 [==============================] - 84s 131ms/step - loss: 0.4202 - categorical_accuracy: 0.8539 - val_loss: 4.5600 - val_categorical_accuracy: 0.2800\n",
      "Epoch 19/20\n",
      "639/639 [==============================] - 83s 131ms/step - loss: 0.4082 - categorical_accuracy: 0.8631 - val_loss: 0.9183 - val_categorical_accuracy: 0.7600\n",
      "Epoch 20/20\n",
      "639/639 [==============================] - 93s 146ms/step - loss: 0.4230 - categorical_accuracy: 0.8541 - val_loss: 0.4275 - val_categorical_accuracy: 0.8600\n"
     ]
    }
   ],
   "source": [
    "history = model.fit(train_gen,\n",
    "                     \n",
    "                     epochs=20,\n",
    "                    validation_data=valid_gen,\n",
    "                    validation_steps=10)"
   ]
  },
  {
   "cell_type": "code",
   "execution_count": 8,
   "id": "1857ee3e",
   "metadata": {},
   "outputs": [
    {
     "name": "stdout",
     "output_type": "stream",
     "text": [
      "INFO:tensorflow:Assets written to: saved_model/model3ConvoBatchNorm\\assets\n"
     ]
    }
   ],
   "source": [
    "acc=history.history['categorical_accuracy']\n",
    "val_acc=history.history['val_categorical_accuracy']\n",
    "loss=history.history['loss']\n",
    "val_loss=history.history['val_loss']\n",
    "model.save('saved_model/model3ConvoBatchNorm')"
   ]
  },
  {
   "cell_type": "code",
   "execution_count": 1,
   "id": "b459a151",
   "metadata": {},
   "outputs": [
    {
     "ename": "NameError",
     "evalue": "name 'acc' is not defined",
     "output_type": "error",
     "traceback": [
      "\u001b[1;31m---------------------------------------------------------------------------\u001b[0m",
      "\u001b[1;31mNameError\u001b[0m                                 Traceback (most recent call last)",
      "\u001b[1;32m~\\AppData\\Local\\Temp/ipykernel_9488/664263587.py\u001b[0m in \u001b[0;36m<module>\u001b[1;34m\u001b[0m\n\u001b[1;32m----> 1\u001b[1;33m \u001b[0mepochs\u001b[0m\u001b[1;33m=\u001b[0m\u001b[0mrange\u001b[0m\u001b[1;33m(\u001b[0m\u001b[1;36m1\u001b[0m\u001b[1;33m,\u001b[0m\u001b[0mlen\u001b[0m\u001b[1;33m(\u001b[0m\u001b[0macc\u001b[0m\u001b[1;33m)\u001b[0m\u001b[1;33m+\u001b[0m\u001b[1;36m1\u001b[0m\u001b[1;33m)\u001b[0m\u001b[1;33m\u001b[0m\u001b[1;33m\u001b[0m\u001b[0m\n\u001b[0m\u001b[0;32m      2\u001b[0m \u001b[0mplt\u001b[0m\u001b[1;33m.\u001b[0m\u001b[0mplot\u001b[0m\u001b[1;33m(\u001b[0m\u001b[0mepochs\u001b[0m\u001b[1;33m,\u001b[0m\u001b[0macc\u001b[0m\u001b[1;33m,\u001b[0m\u001b[1;34m'bo'\u001b[0m\u001b[1;33m,\u001b[0m\u001b[0mlabel\u001b[0m\u001b[1;33m=\u001b[0m\u001b[1;34m\"train accuracy\"\u001b[0m\u001b[1;33m)\u001b[0m\u001b[1;33m\u001b[0m\u001b[1;33m\u001b[0m\u001b[0m\n\u001b[0;32m      3\u001b[0m \u001b[0mplt\u001b[0m\u001b[1;33m.\u001b[0m\u001b[0mplot\u001b[0m\u001b[1;33m(\u001b[0m\u001b[0mepochs\u001b[0m\u001b[1;33m,\u001b[0m\u001b[0mval_acc\u001b[0m\u001b[1;33m,\u001b[0m\u001b[1;34m'ro'\u001b[0m\u001b[1;33m,\u001b[0m\u001b[0mlabel\u001b[0m\u001b[1;33m=\u001b[0m\u001b[1;34m\"val accuracy\"\u001b[0m\u001b[1;33m)\u001b[0m\u001b[1;33m\u001b[0m\u001b[1;33m\u001b[0m\u001b[0m\n\u001b[0;32m      4\u001b[0m \u001b[0mplt\u001b[0m\u001b[1;33m.\u001b[0m\u001b[0mlegend\u001b[0m\u001b[1;33m(\u001b[0m\u001b[1;33m)\u001b[0m\u001b[1;33m\u001b[0m\u001b[1;33m\u001b[0m\u001b[0m\n\u001b[0;32m      5\u001b[0m \u001b[0mplt\u001b[0m\u001b[1;33m.\u001b[0m\u001b[0mshow\u001b[0m\u001b[1;33m(\u001b[0m\u001b[1;33m)\u001b[0m\u001b[1;33m\u001b[0m\u001b[1;33m\u001b[0m\u001b[0m\n",
      "\u001b[1;31mNameError\u001b[0m: name 'acc' is not defined"
     ]
    }
   ],
   "source": [
    "epochs=range(1,len(acc)+1)\n",
    "plt.plot(epochs,acc,'bo',label=\"train accuracy\")\n",
    "plt.plot(epochs,val_acc,'ro',label=\"val accuracy\")\n",
    "plt.legend()\n",
    "plt.show()"
   ]
  },
  {
   "cell_type": "code",
   "execution_count": 12,
   "id": "013748b6",
   "metadata": {},
   "outputs": [
    {
     "data": {
      "image/png": "[encoded data removed]",
      "text/plain": [
       "<Figure size 432x288 with 1 Axes>"
      ]
     },
     "metadata": {
      "needs_background": "light"
     },
     "output_type": "display_data"
    }
   ],
   "source": [
    "epochs=range(1,len(acc)+1)\n",
    "plt.plot(epochs,loss,'bo',label=\"train loss\")\n",
    "plt.plot(epochs,val_loss,'ro',label=\"val loss\")\n",
    "plt.legend()\n",
    "plt.show()"
   ]
  },
  {
   "cell_type": "markdown",
   "id": "3749daaa",
   "metadata": {},
   "source": [
    "Now lets see if 10 more epochs make the model any more accurate "
   ]
  },
  {
   "cell_type": "code",
   "execution_count": 5,
   "id": "e26ac3ed",
   "metadata": {},
   "outputs": [
    {
     "name": "stdout",
     "output_type": "stream",
     "text": [
      "Epoch 1/30\n",
      "639/639 [==============================] - 149s 224ms/step - loss: 1.6328 - categorical_accuracy: 0.5728 - val_loss: 0.9688 - val_categorical_accuracy: 0.6600\n",
      "Epoch 2/30\n",
      "639/639 [==============================] - 86s 134ms/step - loss: 0.8430 - categorical_accuracy: 0.6981 - val_loss: 0.8032 - val_categorical_accuracy: 0.7600\n",
      "Epoch 3/30\n",
      "639/639 [==============================] - 85s 133ms/step - loss: 0.7283 - categorical_accuracy: 0.7367 - val_loss: 1.2515 - val_categorical_accuracy: 0.6200\n",
      "Epoch 4/30\n",
      "639/639 [==============================] - 85s 133ms/step - loss: 0.7465 - categorical_accuracy: 0.7405 - val_loss: 0.6642 - val_categorical_accuracy: 0.7600\n",
      "Epoch 5/30\n",
      "639/639 [==============================] - 85s 133ms/step - loss: 0.6327 - categorical_accuracy: 0.7775 - val_loss: 0.8807 - val_categorical_accuracy: 0.7200\n",
      "Epoch 6/30\n",
      "639/639 [==============================] - 85s 133ms/step - loss: 0.6050 - categorical_accuracy: 0.7860 - val_loss: 1.7286 - val_categorical_accuracy: 0.5600\n",
      "Epoch 7/30\n",
      "639/639 [==============================] - 86s 135ms/step - loss: 0.5801 - categorical_accuracy: 0.7950 - val_loss: 0.5686 - val_categorical_accuracy: 0.7800\n",
      "Epoch 8/30\n",
      "639/639 [==============================] - 87s 136ms/step - loss: 0.5592 - categorical_accuracy: 0.8076 - val_loss: 1.0124 - val_categorical_accuracy: 0.7400\n",
      "Epoch 9/30\n",
      "639/639 [==============================] - 84s 132ms/step - loss: 0.5307 - categorical_accuracy: 0.8163 - val_loss: 1.3604 - val_categorical_accuracy: 0.5800\n",
      "Epoch 10/30\n",
      "639/639 [==============================] - 85s 132ms/step - loss: 0.5296 - categorical_accuracy: 0.8214 - val_loss: 0.5636 - val_categorical_accuracy: 0.7400\n",
      "Epoch 11/30\n",
      "639/639 [==============================] - 86s 134ms/step - loss: 0.4908 - categorical_accuracy: 0.8312 - val_loss: 0.9398 - val_categorical_accuracy: 0.6400\n",
      "Epoch 12/30\n",
      "639/639 [==============================] - 84s 131ms/step - loss: 0.4908 - categorical_accuracy: 0.8280 - val_loss: 0.5696 - val_categorical_accuracy: 0.8400\n",
      "Epoch 13/30\n",
      "639/639 [==============================] - 86s 134ms/step - loss: 0.4776 - categorical_accuracy: 0.8344 - val_loss: 0.6062 - val_categorical_accuracy: 0.8400\n",
      "Epoch 14/30\n",
      "639/639 [==============================] - 88s 138ms/step - loss: 0.4563 - categorical_accuracy: 0.8423 - val_loss: 0.7209 - val_categorical_accuracy: 0.8200\n",
      "Epoch 15/30\n",
      "639/639 [==============================] - 86s 135ms/step - loss: 0.4636 - categorical_accuracy: 0.8395 - val_loss: 0.3903 - val_categorical_accuracy: 0.8800\n",
      "Epoch 16/30\n",
      "639/639 [==============================] - 89s 139ms/step - loss: 0.4485 - categorical_accuracy: 0.8456 - val_loss: 0.6230 - val_categorical_accuracy: 0.8000\n",
      "Epoch 17/30\n",
      "639/639 [==============================] - 88s 138ms/step - loss: 0.4517 - categorical_accuracy: 0.8426 - val_loss: 0.6230 - val_categorical_accuracy: 0.8000\n",
      "Epoch 18/30\n",
      "639/639 [==============================] - 88s 138ms/step - loss: 0.4356 - categorical_accuracy: 0.8491 - val_loss: 0.4167 - val_categorical_accuracy: 0.9000\n",
      "Epoch 19/30\n",
      "639/639 [==============================] - 88s 137ms/step - loss: 0.4150 - categorical_accuracy: 0.8522 - val_loss: 0.4991 - val_categorical_accuracy: 0.8200\n",
      "Epoch 20/30\n",
      "639/639 [==============================] - 89s 139ms/step - loss: 0.4151 - categorical_accuracy: 0.8554 - val_loss: 0.7732 - val_categorical_accuracy: 0.8000\n",
      "Epoch 21/30\n",
      "639/639 [==============================] - 85s 133ms/step - loss: 0.4081 - categorical_accuracy: 0.8606 - val_loss: 0.8426 - val_categorical_accuracy: 0.8200\n",
      "Epoch 22/30\n",
      "639/639 [==============================] - 88s 137ms/step - loss: 0.4096 - categorical_accuracy: 0.8573 - val_loss: 0.9643 - val_categorical_accuracy: 0.7600\n",
      "Epoch 23/30\n",
      "639/639 [==============================] - 86s 135ms/step - loss: 0.3957 - categorical_accuracy: 0.8674 - val_loss: 1.2506 - val_categorical_accuracy: 0.7800\n",
      "Epoch 24/30\n",
      "639/639 [==============================] - 89s 139ms/step - loss: 0.3940 - categorical_accuracy: 0.8667 - val_loss: 1.2958 - val_categorical_accuracy: 0.7000\n",
      "Epoch 25/30\n",
      "639/639 [==============================] - 90s 140ms/step - loss: 0.3865 - categorical_accuracy: 0.8668 - val_loss: 0.5502 - val_categorical_accuracy: 0.7800\n",
      "Epoch 26/30\n",
      "639/639 [==============================] - 87s 136ms/step - loss: 0.3733 - categorical_accuracy: 0.8695 - val_loss: 0.4963 - val_categorical_accuracy: 0.8600\n",
      "Epoch 27/30\n",
      "639/639 [==============================] - 85s 133ms/step - loss: 0.3781 - categorical_accuracy: 0.8701 - val_loss: 0.4973 - val_categorical_accuracy: 0.8400\n",
      "Epoch 28/30\n",
      "639/639 [==============================] - 86s 134ms/step - loss: 0.3742 - categorical_accuracy: 0.8679 - val_loss: 0.6150 - val_categorical_accuracy: 0.8000\n",
      "Epoch 29/30\n",
      "639/639 [==============================] - 90s 140ms/step - loss: 0.3650 - categorical_accuracy: 0.8721 - val_loss: 1.0208 - val_categorical_accuracy: 0.6600\n",
      "Epoch 30/30\n",
      "639/639 [==============================] - 88s 138ms/step - loss: 0.3463 - categorical_accuracy: 0.8795 - val_loss: 1.6581 - val_categorical_accuracy: 0.6800\n"
     ]
    }
   ],
   "source": [
    "history = model.fit(train_gen,\n",
    "\n",
    "                     epochs=30,\n",
    "                    validation_data=valid_gen,\n",
    "                    validation_steps=10)"
   ]
  },
  {
   "cell_type": "code",
   "execution_count": 6,
   "id": "c5148df7",
   "metadata": {},
   "outputs": [
    {
     "name": "stdout",
     "output_type": "stream",
     "text": [
      "INFO:tensorflow:Assets written to: saved_model/model1\\assets\n"
     ]
    }
   ],
   "source": [
    "!mkdir -p saved_model\n",
    "model.save('saved_model/model1')"
   ]
  },
  {
   "cell_type": "code",
   "execution_count": 7,
   "id": "eb6862fb",
   "metadata": {},
   "outputs": [],
   "source": [
    "acc=history.history['categorical_accuracy']\n",
    "val_acc=history.history['val_categorical_accuracy']\n",
    "loss=history.history['loss']\n",
    "val_loss=history.history['val_loss']"
   ]
  },
  {
   "cell_type": "code",
   "execution_count": 8,
   "id": "b2f7d283",
   "metadata": {},
   "outputs": [
    {
     "data": {
      "image/png": "[encoded data removed]",
      "text/plain": [
       "<Figure size 432x288 with 1 Axes>"
      ]
     },
     "metadata": {
      "needs_background": "light"
     },
     "output_type": "display_data"
    }
   ],
   "source": [
    "epochs=range(1,len(acc)+1)\n",
    "plt.plot(epochs,acc,'bo',label=\"train accuracy\")\n",
    "plt.plot(epochs,val_acc,'b',label=\"val accuracy\")\n",
    "plt.legend()\n",
    "plt.show()"
   ]
  },
  {
   "cell_type": "code",
   "execution_count": 9,
   "id": "20e7b6b4",
   "metadata": {},
   "outputs": [
    {
     "data": {
      "image/png": "[encoded data removed]",
      "text/plain": [
       "<Figure size 432x288 with 1 Axes>"
      ]
     },
     "metadata": {
      "needs_background": "light"
     },
     "output_type": "display_data"
    }
   ],
   "source": [
    "epochs=range(1,len(acc)+1)\n",
    "plt.plot(epochs,loss,'bo',label=\"train loss\")\n",
    "plt.plot(epochs,val_loss,'b',label=\"val loss\")\n",
    "plt.legend()\n",
    "plt.show()"
   ]
  },
  {
   "cell_type": "markdown",
   "id": "9ce6f1fd",
   "metadata": {},
   "source": [
    "In conclusion adding another 10 epochs does not improve accuarcy. Now lets try a model with one more layer of convulution"
   ]
  },
  {
   "cell_type": "code",
   "execution_count": 11,
   "id": "12336dd7",
   "metadata": {},
   "outputs": [],
   "source": [
    "kernel=(3,3)\n",
    "model2 = models.Sequential()\n",
    "model2.add(layers.Conv2D(32, kernel,activation=\"relu\",input_shape=(150,150,3)))\n",
    "model2.add(layers.BatchNormalization())\n",
    "model2.add(layers.MaxPooling2D(pool_size=(2, 2)))\n",
    "model2.add(layers.Conv2D(64, kernel,activation=\"relu\",input_shape=(150,150,3)))\n",
    "model2.add(layers.BatchNormalization())\n",
    "model2.add(layers.MaxPooling2D(pool_size=(2, 2)))\n",
    "model2.add(layers.Conv2D(128, kernel,activation=\"relu\",input_shape=(150,150,3)))\n",
    "model2.add(layers.BatchNormalization())\n",
    "model2.add(layers.MaxPooling2D(pool_size=(2, 2)))\n",
    "model2.add(layers.Conv2D(256, kernel,activation=\"relu\",input_shape=(150,150,3)))\n",
    "model2.add(layers.BatchNormalization())\n",
    "model2.add(layers.MaxPooling2D(pool_size=(2, 2)))\n",
    "model2.add(layers.Flatten())\n",
    "\n",
    "model.add(layers.Dense(128, activation='relu'))\n",
    "model.add(layers.Dense(6, activation='softmax'))\n",
    "\n",
    "model.compile(loss='categorical_crossentropy', optimizer='adam', metrics=['categorical_accuracy'])"
   ]
  },
  {
   "cell_type": "code",
   "execution_count": 12,
   "id": "e3874eae",
   "metadata": {},
   "outputs": [
    {
     "name": "stdout",
     "output_type": "stream",
     "text": [
      "Epoch 1/20\n",
      "639/639 [==============================] - 88s 137ms/step - loss: 0.6437 - categorical_accuracy: 0.8413 - val_loss: 0.8066 - val_categorical_accuracy: 0.7200\n",
      "Epoch 2/20\n",
      "639/639 [==============================] - 87s 136ms/step - loss: 0.4211 - categorical_accuracy: 0.8659 - val_loss: 0.9065 - val_categorical_accuracy: 0.7200\n",
      "Epoch 3/20\n",
      "639/639 [==============================] - 83s 130ms/step - loss: 0.4241 - categorical_accuracy: 0.8643 - val_loss: 0.3939 - val_categorical_accuracy: 0.8400\n",
      "Epoch 4/20\n",
      "639/639 [==============================] - 83s 130ms/step - loss: 0.3965 - categorical_accuracy: 0.8746 - val_loss: 0.5827 - val_categorical_accuracy: 0.8800\n",
      "Epoch 5/20\n",
      "639/639 [==============================] - 83s 130ms/step - loss: 0.4037 - categorical_accuracy: 0.8701 - val_loss: 1.6612 - val_categorical_accuracy: 0.5600\n",
      "Epoch 6/20\n",
      "639/639 [==============================] - 83s 130ms/step - loss: 0.3940 - categorical_accuracy: 0.8751 - val_loss: 0.2480 - val_categorical_accuracy: 0.9000\n",
      "Epoch 7/20\n",
      "639/639 [==============================] - 83s 130ms/step - loss: 0.3909 - categorical_accuracy: 0.8741 - val_loss: 1.0604 - val_categorical_accuracy: 0.7000\n",
      "Epoch 8/20\n",
      "639/639 [==============================] - 83s 129ms/step - loss: 0.3765 - categorical_accuracy: 0.8792 - val_loss: 0.4343 - val_categorical_accuracy: 0.8600\n",
      "Epoch 9/20\n",
      "639/639 [==============================] - 83s 130ms/step - loss: 0.3854 - categorical_accuracy: 0.8780 - val_loss: 0.6614 - val_categorical_accuracy: 0.8200\n",
      "Epoch 10/20\n",
      "639/639 [==============================] - 83s 131ms/step - loss: 0.3757 - categorical_accuracy: 0.8809 - val_loss: 0.3189 - val_categorical_accuracy: 0.9000\n",
      "Epoch 11/20\n",
      "639/639 [==============================] - 83s 129ms/step - loss: 0.3645 - categorical_accuracy: 0.8850 - val_loss: 0.4464 - val_categorical_accuracy: 0.8600\n",
      "Epoch 12/20\n",
      "639/639 [==============================] - 84s 132ms/step - loss: 0.3670 - categorical_accuracy: 0.8815 - val_loss: 0.6007 - val_categorical_accuracy: 0.8200\n",
      "Epoch 13/20\n",
      "639/639 [==============================] - 83s 130ms/step - loss: 0.3672 - categorical_accuracy: 0.8840 - val_loss: 0.6039 - val_categorical_accuracy: 0.7800\n",
      "Epoch 14/20\n",
      "639/639 [==============================] - 82s 129ms/step - loss: 0.3598 - categorical_accuracy: 0.8849 - val_loss: 0.4291 - val_categorical_accuracy: 0.8600\n",
      "Epoch 15/20\n",
      "639/639 [==============================] - 84s 131ms/step - loss: 0.3605 - categorical_accuracy: 0.8849 - val_loss: 0.5608 - val_categorical_accuracy: 0.8600\n",
      "Epoch 16/20\n",
      "639/639 [==============================] - 84s 131ms/step - loss: 0.3402 - categorical_accuracy: 0.8882 - val_loss: 0.8096 - val_categorical_accuracy: 0.8000\n",
      "Epoch 17/20\n",
      "639/639 [==============================] - 83s 130ms/step - loss: 0.3580 - categorical_accuracy: 0.8867 - val_loss: 0.7356 - val_categorical_accuracy: 0.7800\n",
      "Epoch 18/20\n",
      "639/639 [==============================] - 83s 130ms/step - loss: 0.3459 - categorical_accuracy: 0.8905 - val_loss: 0.4238 - val_categorical_accuracy: 0.8600\n",
      "Epoch 19/20\n",
      "639/639 [==============================] - 85s 132ms/step - loss: 0.3521 - categorical_accuracy: 0.8868 - val_loss: 0.5423 - val_categorical_accuracy: 0.8200\n",
      "Epoch 20/20\n",
      "639/639 [==============================] - 84s 131ms/step - loss: 0.3379 - categorical_accuracy: 0.8899 - val_loss: 0.7903 - val_categorical_accuracy: 0.7800\n"
     ]
    }
   ],
   "source": [
    "history = model.fit(train_gen,\n",
    "\n",
    "                     epochs=20,\n",
    "                    validation_data=valid_gen,\n",
    "                    validation_steps=10)"
   ]
  },
  {
   "cell_type": "code",
   "execution_count": 13,
   "id": "17600f60",
   "metadata": {},
   "outputs": [],
   "source": [
    "acc=history.history['categorical_accuracy']\n",
    "val_acc=history.history['val_categorical_accuracy']\n",
    "loss=history.history['loss']\n",
    "val_loss=history.history['val_loss']"
   ]
  },
  {
   "cell_type": "code",
   "execution_count": 14,
   "id": "980cebd0",
   "metadata": {},
   "outputs": [
    {
     "data": {
      "image/png": "[encoded data removed]",
      "text/plain": [
       "<Figure size 432x288 with 1 Axes>"
      ]
     },
     "metadata": {
      "needs_background": "light"
     },
     "output_type": "display_data"
    }
   ],
   "source": [
    "epochs=range(1,len(acc)+1)\n",
    "plt.plot(epochs,acc,'bo',label=\"train accuracy\")\n",
    "plt.plot(epochs,val_acc,'b',label=\"val accuracy\")\n",
    "plt.legend()\n",
    "plt.show()"
   ]
  },
  {
   "cell_type": "code",
   "execution_count": 15,
   "id": "6b6b84f5",
   "metadata": {},
   "outputs": [
    {
     "data": {
      "image/png": "[encoded data removed]",
      "text/plain": [
       "<Figure size 432x288 with 1 Axes>"
      ]
     },
     "metadata": {
      "needs_background": "light"
     },
     "output_type": "display_data"
    }
   ],
   "source": [
    "epochs=range(1,len(acc)+1)\n",
    "plt.plot(epochs,loss,'bo',label=\"train loss\")\n",
    "plt.plot(epochs,val_loss,'b',label=\"val loss\")\n",
    "plt.legend()\n",
    "plt.show()"
   ]
  },
  {
   "cell_type": "markdown",
   "id": "450cab19",
   "metadata": {},
   "source": [
    "Now I will test GaussianNoise to see how it affects the model"
   ]
  },
  {
   "cell_type": "markdown",
   "id": "8702ab1f",
   "metadata": {},
   "source": [
    "# Model with .3 Gaussian Noise"
   ]
  },
  {
   "cell_type": "code",
   "execution_count": 7,
   "id": "bc98f6dc",
   "metadata": {},
   "outputs": [],
   "source": [
    "kernel=(3,3)\n",
    "model2 = models.Sequential()\n",
    "model2.add(layers.Conv2D(32, kernel,activation=\"relu\",input_shape=(150,150,3)))\n",
    "model2.add(layers.BatchNormalization())\n",
    "model2.add(layers.GaussianNoise(.3))\n",
    "model2.add(layers.MaxPooling2D(pool_size=(2, 2)))\n",
    "model2.add(layers.Conv2D(64, kernel,activation=\"relu\",input_shape=(150,150,3)))\n",
    "model2.add(layers.BatchNormalization())\n",
    "model2.add(layers.GaussianNoise(.3))\n",
    "model2.add(layers.MaxPooling2D(pool_size=(2, 2)))\n",
    "model2.add(layers.Conv2D(128, kernel,activation=\"relu\",input_shape=(150,150,3)))\n",
    "model2.add(layers.BatchNormalization())\n",
    "model2.add(layers.GaussianNoise(.3))\n",
    "model2.add(layers.MaxPooling2D(pool_size=(2, 2)))\n",
    "model2.add(layers.Flatten())\n",
    "\n",
    "model2.add(layers.Dense(128, activation='relu'))\n",
    "model2.add(layers.Dense(6, activation='softmax'))\n",
    "\n",
    "model2.compile(loss='categorical_crossentropy', optimizer='adam', metrics=['categorical_accuracy'])"
   ]
  },
  {
   "cell_type": "code",
   "execution_count": 8,
   "id": "cd2f5d52",
   "metadata": {},
   "outputs": [
    {
     "name": "stdout",
     "output_type": "stream",
     "text": [
      "Epoch 1/20\n",
      "639/639 [==============================] - 146s 217ms/step - loss: 1.6553 - categorical_accuracy: 0.5324 - val_loss: 1.2305 - val_categorical_accuracy: 0.5800\n",
      "Epoch 2/20\n",
      "639/639 [==============================] - 85s 132ms/step - loss: 1.0032 - categorical_accuracy: 0.6366 - val_loss: 0.9399 - val_categorical_accuracy: 0.7200\n",
      "Epoch 3/20\n",
      "639/639 [==============================] - 84s 131ms/step - loss: 0.8637 - categorical_accuracy: 0.6860 - val_loss: 2.1273 - val_categorical_accuracy: 0.5600\n",
      "Epoch 4/20\n",
      "639/639 [==============================] - 85s 132ms/step - loss: 0.7627 - categorical_accuracy: 0.7201 - val_loss: 1.2521 - val_categorical_accuracy: 0.7200\n",
      "Epoch 5/20\n",
      "639/639 [==============================] - 83s 131ms/step - loss: 0.7219 - categorical_accuracy: 0.7448 - val_loss: 1.0353 - val_categorical_accuracy: 0.6200\n",
      "Epoch 6/20\n",
      "639/639 [==============================] - 83s 130ms/step - loss: 0.6469 - categorical_accuracy: 0.7728 - val_loss: 1.8863 - val_categorical_accuracy: 0.6400\n",
      "Epoch 7/20\n",
      "639/639 [==============================] - 83s 130ms/step - loss: 0.6054 - categorical_accuracy: 0.7847 - val_loss: 3.9188 - val_categorical_accuracy: 0.5200\n",
      "Epoch 8/20\n",
      "639/639 [==============================] - 84s 131ms/step - loss: 0.5799 - categorical_accuracy: 0.7969 - val_loss: 1.3286 - val_categorical_accuracy: 0.7000\n",
      "Epoch 9/20\n",
      "639/639 [==============================] - 84s 131ms/step - loss: 0.5487 - categorical_accuracy: 0.8094 - val_loss: 4.0291 - val_categorical_accuracy: 0.3200\n",
      "Epoch 10/20\n",
      "639/639 [==============================] - 84s 131ms/step - loss: 0.5339 - categorical_accuracy: 0.8139 - val_loss: 0.6617 - val_categorical_accuracy: 0.7200\n",
      "Epoch 11/20\n",
      "639/639 [==============================] - 83s 131ms/step - loss: 0.5265 - categorical_accuracy: 0.8211 - val_loss: 2.5878 - val_categorical_accuracy: 0.5400\n",
      "Epoch 12/20\n",
      "639/639 [==============================] - 84s 131ms/step - loss: 0.5139 - categorical_accuracy: 0.8248 - val_loss: 3.8067 - val_categorical_accuracy: 0.5600\n",
      "Epoch 13/20\n",
      "639/639 [==============================] - 84s 131ms/step - loss: 0.4889 - categorical_accuracy: 0.8299 - val_loss: 10.8191 - val_categorical_accuracy: 0.5400\n",
      "Epoch 14/20\n",
      "639/639 [==============================] - 84s 131ms/step - loss: 0.4828 - categorical_accuracy: 0.8308 - val_loss: 25.9033 - val_categorical_accuracy: 0.3800\n",
      "Epoch 15/20\n",
      "639/639 [==============================] - 84s 131ms/step - loss: 0.4633 - categorical_accuracy: 0.8401 - val_loss: 2.6748 - val_categorical_accuracy: 0.6000\n",
      "Epoch 16/20\n",
      "639/639 [==============================] - 84s 131ms/step - loss: 0.4477 - categorical_accuracy: 0.8423 - val_loss: 3.0622 - val_categorical_accuracy: 0.6200\n",
      "Epoch 17/20\n",
      "639/639 [==============================] - 84s 131ms/step - loss: 0.4515 - categorical_accuracy: 0.8415 - val_loss: 3.8563 - val_categorical_accuracy: 0.6200\n",
      "Epoch 18/20\n",
      "639/639 [==============================] - 83s 130ms/step - loss: 0.4297 - categorical_accuracy: 0.8521 - val_loss: 5.5419 - val_categorical_accuracy: 0.5200\n",
      "Epoch 19/20\n",
      "639/639 [==============================] - 83s 130ms/step - loss: 0.4347 - categorical_accuracy: 0.8476 - val_loss: 5.0944 - val_categorical_accuracy: 0.6000\n",
      "Epoch 20/20\n",
      "639/639 [==============================] - 84s 132ms/step - loss: 0.4104 - categorical_accuracy: 0.8551 - val_loss: 7.8413 - val_categorical_accuracy: 0.5400\n"
     ]
    }
   ],
   "source": [
    "history = model2.fit(train_gen,\n",
    "\n",
    "                     epochs=20,\n",
    "                    validation_data=valid_gen,\n",
    "                    validation_steps=10)"
   ]
  },
  {
   "cell_type": "markdown",
   "id": "2bb8ce63",
   "metadata": {},
   "source": [
    "Looking at the numbers it seems the Gaussian noise did not help, lets try a lower value such as .15"
   ]
  },
  {
   "cell_type": "markdown",
   "id": "8a7a1dd4",
   "metadata": {},
   "source": [
    "# Model With .15 Gaussian Noise"
   ]
  },
  {
   "cell_type": "code",
   "execution_count": 9,
   "id": "91723046",
   "metadata": {},
   "outputs": [],
   "source": [
    "kernel=(3,3)\n",
    "model2 = models.Sequential()\n",
    "model2.add(layers.Conv2D(32, kernel,activation=\"relu\",input_shape=(150,150,3)))\n",
    "model2.add(layers.BatchNormalization())\n",
    "model2.add(layers.GaussianNoise(.15))\n",
    "model2.add(layers.MaxPooling2D(pool_size=(2, 2)))\n",
    "model2.add(layers.Conv2D(64, kernel,activation=\"relu\",input_shape=(150,150,3)))\n",
    "model2.add(layers.BatchNormalization())\n",
    "model2.add(layers.GaussianNoise(.15))\n",
    "model2.add(layers.MaxPooling2D(pool_size=(2, 2)))\n",
    "model2.add(layers.Conv2D(128, kernel,activation=\"relu\",input_shape=(150,150,3)))\n",
    "model2.add(layers.BatchNormalization())\n",
    "model2.add(layers.GaussianNoise(.15))\n",
    "model2.add(layers.MaxPooling2D(pool_size=(2, 2)))\n",
    "model2.add(layers.Flatten())\n",
    "\n",
    "model2.add(layers.Dense(128, activation='relu'))\n",
    "model2.add(layers.Dense(6, activation='softmax'))\n",
    "\n",
    "model2.compile(loss='categorical_crossentropy', optimizer='adam', metrics=['categorical_accuracy'])"
   ]
  },
  {
   "cell_type": "code",
   "execution_count": 10,
   "id": "316d4cf0",
   "metadata": {},
   "outputs": [
    {
     "name": "stdout",
     "output_type": "stream",
     "text": [
      "Epoch 1/20\n",
      "639/639 [==============================] - 84s 130ms/step - loss: 1.4301 - categorical_accuracy: 0.5583 - val_loss: 2.7404 - val_categorical_accuracy: 0.4800\n",
      "Epoch 2/20\n",
      "639/639 [==============================] - 84s 131ms/step - loss: 0.8334 - categorical_accuracy: 0.6976 - val_loss: 3.1873 - val_categorical_accuracy: 0.3800\n",
      "Epoch 3/20\n",
      "639/639 [==============================] - 84s 132ms/step - loss: 0.7282 - categorical_accuracy: 0.7432 - val_loss: 1.4047 - val_categorical_accuracy: 0.6600\n",
      "Epoch 4/20\n",
      "639/639 [==============================] - 88s 138ms/step - loss: 0.6604 - categorical_accuracy: 0.7652 - val_loss: 1.8042 - val_categorical_accuracy: 0.5600\n",
      "Epoch 5/20\n",
      "639/639 [==============================] - 85s 133ms/step - loss: 0.6389 - categorical_accuracy: 0.7759 - val_loss: 2.1293 - val_categorical_accuracy: 0.5000\n",
      "Epoch 6/20\n",
      "639/639 [==============================] - 83s 129ms/step - loss: 0.6034 - categorical_accuracy: 0.7859 - val_loss: 0.9640 - val_categorical_accuracy: 0.6800\n",
      "Epoch 7/20\n",
      "639/639 [==============================] - 83s 129ms/step - loss: 0.5606 - categorical_accuracy: 0.8042 - val_loss: 1.8604 - val_categorical_accuracy: 0.6400\n",
      "Epoch 8/20\n",
      "639/639 [==============================] - 83s 130ms/step - loss: 0.5420 - categorical_accuracy: 0.8116 - val_loss: 0.6186 - val_categorical_accuracy: 0.7600\n",
      "Epoch 9/20\n",
      "639/639 [==============================] - 87s 136ms/step - loss: 0.5149 - categorical_accuracy: 0.8213 - val_loss: 1.3333 - val_categorical_accuracy: 0.6400\n",
      "Epoch 10/20\n",
      "639/639 [==============================] - 84s 131ms/step - loss: 0.4985 - categorical_accuracy: 0.8276 - val_loss: 0.6505 - val_categorical_accuracy: 0.8000\n",
      "Epoch 11/20\n",
      "639/639 [==============================] - 83s 131ms/step - loss: 0.4879 - categorical_accuracy: 0.8299 - val_loss: 1.2315 - val_categorical_accuracy: 0.7400\n",
      "Epoch 12/20\n",
      "639/639 [==============================] - 83s 130ms/step - loss: 0.4797 - categorical_accuracy: 0.8332 - val_loss: 0.6622 - val_categorical_accuracy: 0.8000\n",
      "Epoch 13/20\n",
      "639/639 [==============================] - 83s 130ms/step - loss: 0.4642 - categorical_accuracy: 0.8424 - val_loss: 1.1644 - val_categorical_accuracy: 0.7000\n",
      "Epoch 14/20\n",
      "639/639 [==============================] - 84s 131ms/step - loss: 0.4560 - categorical_accuracy: 0.8413 - val_loss: 0.6424 - val_categorical_accuracy: 0.7600\n",
      "Epoch 15/20\n",
      "639/639 [==============================] - 83s 130ms/step - loss: 0.4414 - categorical_accuracy: 0.8457 - val_loss: 0.6322 - val_categorical_accuracy: 0.8200\n",
      "Epoch 16/20\n",
      "639/639 [==============================] - 83s 130ms/step - loss: 0.4289 - categorical_accuracy: 0.8528 - val_loss: 1.4282 - val_categorical_accuracy: 0.7000\n",
      "Epoch 17/20\n",
      "639/639 [==============================] - 84s 131ms/step - loss: 0.4246 - categorical_accuracy: 0.8502 - val_loss: 2.4593 - val_categorical_accuracy: 0.5600\n",
      "Epoch 18/20\n",
      "639/639 [==============================] - 86s 134ms/step - loss: 0.4200 - categorical_accuracy: 0.8550 - val_loss: 1.2817 - val_categorical_accuracy: 0.7400\n",
      "Epoch 19/20\n",
      "639/639 [==============================] - 83s 129ms/step - loss: 0.3946 - categorical_accuracy: 0.8655 - val_loss: 1.2241 - val_categorical_accuracy: 0.8000\n",
      "Epoch 20/20\n",
      "639/639 [==============================] - 83s 130ms/step - loss: 0.4122 - categorical_accuracy: 0.8579 - val_loss: 1.5009 - val_categorical_accuracy: 0.7200\n"
     ]
    }
   ],
   "source": [
    "history = model2.fit(train_gen,\n",
    "\n",
    "                     epochs=20,\n",
    "                    validation_data=valid_gen,\n",
    "                    validation_steps=10)"
   ]
  },
  {
   "cell_type": "markdown",
   "id": "29aff736",
   "metadata": {},
   "source": [
    "Looking at the numbers it seems lowering the Gaussian noise did not help, lets try a highwe value such as .5"
   ]
  },
  {
   "cell_type": "markdown",
   "id": "82f33316",
   "metadata": {},
   "source": [
    "# Model with .5 Gaussian Noise"
   ]
  },
  {
   "cell_type": "code",
   "execution_count": 11,
   "id": "ed3996fd",
   "metadata": {},
   "outputs": [],
   "source": [
    "kernel=(3,3)\n",
    "model2 = models.Sequential()\n",
    "model2.add(layers.Conv2D(32, kernel,activation=\"relu\",input_shape=(150,150,3)))\n",
    "model2.add(layers.BatchNormalization())\n",
    "model2.add(layers.GaussianNoise(.5))\n",
    "model2.add(layers.MaxPooling2D(pool_size=(2, 2)))\n",
    "model2.add(layers.Conv2D(64, kernel,activation=\"relu\",input_shape=(150,150,3)))\n",
    "model2.add(layers.BatchNormalization())\n",
    "model2.add(layers.GaussianNoise(.5))\n",
    "model2.add(layers.MaxPooling2D(pool_size=(2, 2)))\n",
    "model2.add(layers.Conv2D(128, kernel,activation=\"relu\",input_shape=(150,150,3)))\n",
    "model2.add(layers.BatchNormalization())\n",
    "model2.add(layers.GaussianNoise(.5))\n",
    "model2.add(layers.MaxPooling2D(pool_size=(2, 2)))\n",
    "model2.add(layers.Flatten())\n",
    "\n",
    "model2.add(layers.Dense(128, activation='relu'))\n",
    "model2.add(layers.Dense(6, activation='softmax'))\n",
    "\n",
    "model2.compile(loss='categorical_crossentropy', optimizer='adam', metrics=['categorical_accuracy'])"
   ]
  },
  {
   "cell_type": "code",
   "execution_count": 12,
   "id": "a12d677b",
   "metadata": {},
   "outputs": [
    {
     "name": "stdout",
     "output_type": "stream",
     "text": [
      "Epoch 1/20\n",
      "639/639 [==============================] - 88s 134ms/step - loss: 2.0448 - categorical_accuracy: 0.4856 - val_loss: 10.6906 - val_categorical_accuracy: 0.3400\n",
      "Epoch 2/20\n",
      "639/639 [==============================] - 86s 135ms/step - loss: 1.1704 - categorical_accuracy: 0.5559 - val_loss: 2.2597 - val_categorical_accuracy: 0.4600\n",
      "Epoch 3/20\n",
      "639/639 [==============================] - 87s 137ms/step - loss: 1.0544 - categorical_accuracy: 0.6142 - val_loss: 5.4060 - val_categorical_accuracy: 0.5600\n",
      "Epoch 4/20\n",
      "639/639 [==============================] - 89s 139ms/step - loss: 0.9132 - categorical_accuracy: 0.6811 - val_loss: 6.8484 - val_categorical_accuracy: 0.4400\n",
      "Epoch 5/20\n",
      "639/639 [==============================] - 84s 132ms/step - loss: 0.8104 - categorical_accuracy: 0.7162 - val_loss: 10.6058 - val_categorical_accuracy: 0.4400\n",
      "Epoch 6/20\n",
      "639/639 [==============================] - 87s 136ms/step - loss: 0.7377 - categorical_accuracy: 0.7428 - val_loss: 32.7424 - val_categorical_accuracy: 0.3200\n",
      "Epoch 7/20\n",
      "639/639 [==============================] - 86s 134ms/step - loss: 0.6915 - categorical_accuracy: 0.7601 - val_loss: 15.6937 - val_categorical_accuracy: 0.5000\n",
      "Epoch 8/20\n",
      "639/639 [==============================] - 86s 134ms/step - loss: 0.6669 - categorical_accuracy: 0.7689 - val_loss: 9.8702 - val_categorical_accuracy: 0.3200\n",
      "Epoch 9/20\n",
      "639/639 [==============================] - 85s 133ms/step - loss: 0.6319 - categorical_accuracy: 0.7851 - val_loss: 9.4159 - val_categorical_accuracy: 0.3600\n",
      "Epoch 10/20\n",
      "639/639 [==============================] - 85s 132ms/step - loss: 0.6169 - categorical_accuracy: 0.7861 - val_loss: 14.5276 - val_categorical_accuracy: 0.2400\n",
      "Epoch 11/20\n",
      "639/639 [==============================] - 88s 137ms/step - loss: 0.5933 - categorical_accuracy: 0.7988 - val_loss: 17.3282 - val_categorical_accuracy: 0.3800\n",
      "Epoch 12/20\n",
      "639/639 [==============================] - 92s 144ms/step - loss: 0.5790 - categorical_accuracy: 0.8034 - val_loss: 15.0665 - val_categorical_accuracy: 0.4200\n",
      "Epoch 13/20\n",
      "639/639 [==============================] - 87s 137ms/step - loss: 0.5553 - categorical_accuracy: 0.8088 - val_loss: 24.2040 - val_categorical_accuracy: 0.4400\n",
      "Epoch 14/20\n",
      "639/639 [==============================] - 85s 133ms/step - loss: 0.5479 - categorical_accuracy: 0.8107 - val_loss: 19.9938 - val_categorical_accuracy: 0.3400\n",
      "Epoch 15/20\n",
      "639/639 [==============================] - 88s 137ms/step - loss: 0.5228 - categorical_accuracy: 0.8204 - val_loss: 48.9474 - val_categorical_accuracy: 0.2800\n",
      "Epoch 16/20\n",
      "639/639 [==============================] - 87s 136ms/step - loss: 0.5130 - categorical_accuracy: 0.8215 - val_loss: 12.0905 - val_categorical_accuracy: 0.4200\n",
      "Epoch 17/20\n",
      "639/639 [==============================] - 89s 139ms/step - loss: 0.4972 - categorical_accuracy: 0.8290 - val_loss: 19.8244 - val_categorical_accuracy: 0.3800\n",
      "Epoch 18/20\n",
      "639/639 [==============================] - 84s 132ms/step - loss: 0.4837 - categorical_accuracy: 0.8339 - val_loss: 13.4372 - val_categorical_accuracy: 0.4000\n",
      "Epoch 19/20\n",
      "639/639 [==============================] - 83s 129ms/step - loss: 0.4860 - categorical_accuracy: 0.8318 - val_loss: 36.0661 - val_categorical_accuracy: 0.3400\n",
      "Epoch 20/20\n",
      "639/639 [==============================] - 83s 130ms/step - loss: 0.4596 - categorical_accuracy: 0.8358 - val_loss: 56.3187 - val_categorical_accuracy: 0.2400\n"
     ]
    }
   ],
   "source": [
    "history = model2.fit(train_gen,\n",
    "\n",
    "                     epochs=20,\n",
    "                    validation_data=valid_gen,\n",
    "                    validation_steps=10)"
   ]
  },
  {
   "cell_type": "markdown",
   "id": "59967031",
   "metadata": {},
   "source": [
    "It seems Guassian Noise is not helping, lets try Gaussian dropout"
   ]
  },
  {
   "cell_type": "markdown",
   "id": "e3c7de1b",
   "metadata": {},
   "source": [
    "# Model With .15 Gaussian Dropout"
   ]
  },
  {
   "cell_type": "code",
   "execution_count": 4,
   "id": "cf3d00ab",
   "metadata": {},
   "outputs": [],
   "source": [
    "kernel=(3,3)\n",
    "model2 = models.Sequential()\n",
    "model2.add(layers.Conv2D(32, kernel,activation=\"relu\",input_shape=(150,150,3)))\n",
    "model2.add(layers.BatchNormalization())\n",
    "model2.add(layers.GaussianDropout(.15))\n",
    "model2.add(layers.MaxPooling2D(pool_size=(2, 2)))\n",
    "model2.add(layers.Conv2D(64, kernel,activation=\"relu\",input_shape=(150,150,3)))\n",
    "model2.add(layers.BatchNormalization())\n",
    "model2.add(layers.GaussianDropout(.15))\n",
    "model2.add(layers.MaxPooling2D(pool_size=(2, 2)))\n",
    "model2.add(layers.Conv2D(128, kernel,activation=\"relu\",input_shape=(150,150,3)))\n",
    "model2.add(layers.BatchNormalization())\n",
    "model2.add(layers.GaussianDropout(.15))\n",
    "model2.add(layers.MaxPooling2D(pool_size=(2, 2)))\n",
    "model2.add(layers.Flatten())\n",
    "\n",
    "model2.add(layers.Dense(128, activation='relu'))\n",
    "model2.add(layers.Dense(6, activation='softmax'))\n",
    "\n",
    "model2.compile(loss='categorical_crossentropy', optimizer='adam', metrics=['categorical_accuracy'])"
   ]
  },
  {
   "cell_type": "code",
   "execution_count": 5,
   "id": "16760749",
   "metadata": {},
   "outputs": [
    {
     "name": "stdout",
     "output_type": "stream",
     "text": [
      "Epoch 1/20\n",
      "639/639 [==============================] - 164s 245ms/step - loss: 1.7938 - categorical_accuracy: 0.5034 - val_loss: 1.9671 - val_categorical_accuracy: 0.2800\n",
      "Epoch 2/20\n",
      "639/639 [==============================] - 90s 141ms/step - loss: 0.9969 - categorical_accuracy: 0.6204 - val_loss: 1.1899 - val_categorical_accuracy: 0.6400\n",
      "Epoch 3/20\n",
      "639/639 [==============================] - 87s 137ms/step - loss: 0.8925 - categorical_accuracy: 0.6688 - val_loss: 0.8815 - val_categorical_accuracy: 0.6800\n",
      "Epoch 4/20\n",
      "639/639 [==============================] - 86s 135ms/step - loss: 0.7843 - categorical_accuracy: 0.7190 - val_loss: 1.1303 - val_categorical_accuracy: 0.5600\n",
      "Epoch 5/20\n",
      "639/639 [==============================] - 94s 148ms/step - loss: 0.7275 - categorical_accuracy: 0.7436 - val_loss: 1.8049 - val_categorical_accuracy: 0.4800\n",
      "Epoch 6/20\n",
      "639/639 [==============================] - 113s 177ms/step - loss: 0.7040 - categorical_accuracy: 0.7479 - val_loss: 0.4092 - val_categorical_accuracy: 0.8400\n",
      "Epoch 7/20\n",
      "639/639 [==============================] - 119s 187ms/step - loss: 0.6513 - categorical_accuracy: 0.7721 - val_loss: 0.7375 - val_categorical_accuracy: 0.7600\n",
      "Epoch 8/20\n",
      "639/639 [==============================] - 104s 163ms/step - loss: 0.6114 - categorical_accuracy: 0.7839 - val_loss: 0.8872 - val_categorical_accuracy: 0.7200\n",
      "Epoch 9/20\n",
      "639/639 [==============================] - 150s 235ms/step - loss: 0.5892 - categorical_accuracy: 0.7923 - val_loss: 1.2388 - val_categorical_accuracy: 0.7000\n",
      "Epoch 10/20\n",
      "639/639 [==============================] - 128s 200ms/step - loss: 0.5752 - categorical_accuracy: 0.7968 - val_loss: 0.5905 - val_categorical_accuracy: 0.8000\n",
      "Epoch 11/20\n",
      "639/639 [==============================] - 145s 227ms/step - loss: 0.5693 - categorical_accuracy: 0.8016 - val_loss: 1.1608 - val_categorical_accuracy: 0.8400\n",
      "Epoch 12/20\n",
      "639/639 [==============================] - 85s 133ms/step - loss: 0.5345 - categorical_accuracy: 0.8131 - val_loss: 2.2974 - val_categorical_accuracy: 0.5600\n",
      "Epoch 13/20\n",
      "639/639 [==============================] - 85s 132ms/step - loss: 0.5492 - categorical_accuracy: 0.8124 - val_loss: 0.7504 - val_categorical_accuracy: 0.7200\n",
      "Epoch 14/20\n",
      "639/639 [==============================] - 86s 135ms/step - loss: 0.4965 - categorical_accuracy: 0.8236 - val_loss: 1.5792 - val_categorical_accuracy: 0.6600\n",
      "Epoch 15/20\n",
      "639/639 [==============================] - 86s 135ms/step - loss: 0.5025 - categorical_accuracy: 0.8255 - val_loss: 0.4811 - val_categorical_accuracy: 0.8600\n",
      "Epoch 16/20\n",
      "639/639 [==============================] - 87s 135ms/step - loss: 0.4689 - categorical_accuracy: 0.8341 - val_loss: 11.1646 - val_categorical_accuracy: 0.4400\n",
      "Epoch 17/20\n",
      "639/639 [==============================] - 85s 134ms/step - loss: 0.4685 - categorical_accuracy: 0.8367 - val_loss: 1.1448 - val_categorical_accuracy: 0.5600\n",
      "Epoch 18/20\n",
      "639/639 [==============================] - 90s 140ms/step - loss: 0.4536 - categorical_accuracy: 0.8420 - val_loss: 1.1578 - val_categorical_accuracy: 0.7000\n",
      "Epoch 19/20\n",
      "639/639 [==============================] - 89s 139ms/step - loss: 0.4430 - categorical_accuracy: 0.8457 - val_loss: 0.7752 - val_categorical_accuracy: 0.7400\n",
      "Epoch 20/20\n",
      "639/639 [==============================] - 87s 136ms/step - loss: 0.4421 - categorical_accuracy: 0.8443 - val_loss: 1.2813 - val_categorical_accuracy: 0.7400\n"
     ]
    }
   ],
   "source": [
    "history = model2.fit(train_gen,\n",
    "\n",
    "                     epochs=20,\n",
    "                    validation_data=valid_gen,\n",
    "                    validation_steps=10)"
   ]
  },
  {
   "cell_type": "markdown",
   "id": "63b214cd",
   "metadata": {},
   "source": [
    "# Model with .3 Gaussian Dropout"
   ]
  },
  {
   "cell_type": "code",
   "execution_count": 7,
   "id": "e8613db7",
   "metadata": {},
   "outputs": [],
   "source": [
    "kernel=(3,3)\n",
    "model2 = models.Sequential()\n",
    "model2.add(layers.Conv2D(32, kernel,activation=\"relu\",input_shape=(150,150,3)))\n",
    "model2.add(layers.BatchNormalization())\n",
    "model2.add(layers.GaussianDropout(.3))\n",
    "model2.add(layers.MaxPooling2D(pool_size=(2, 2)))\n",
    "model2.add(layers.Conv2D(64, kernel,activation=\"relu\",input_shape=(150,150,3)))\n",
    "model2.add(layers.BatchNormalization())\n",
    "model2.add(layers.GaussianDropout(.3))\n",
    "model2.add(layers.MaxPooling2D(pool_size=(2, 2)))\n",
    "model2.add(layers.Conv2D(128, kernel,activation=\"relu\",input_shape=(150,150,3)))\n",
    "model2.add(layers.BatchNormalization())\n",
    "model2.add(layers.GaussianDropout(.3))\n",
    "model2.add(layers.MaxPooling2D(pool_size=(2, 2)))\n",
    "model2.add(layers.Flatten())\n",
    "model2.add(layers.Dense(128, activation='relu'))\n",
    "model2.add(layers.Dense(6, activation='softmax'))\n",
    "\n",
    "model2.compile(loss='categorical_crossentropy', optimizer='adam', metrics=['categorical_accuracy'])"
   ]
  },
  {
   "cell_type": "code",
   "execution_count": 8,
   "id": "01e67943",
   "metadata": {},
   "outputs": [
    {
     "name": "stdout",
     "output_type": "stream",
     "text": [
      "Epoch 1/20\n",
      "639/639 [==============================] - 95s 147ms/step - loss: 1.9586 - categorical_accuracy: 0.5045 - val_loss: 2.7351 - val_categorical_accuracy: 0.6200\n",
      "Epoch 2/20\n",
      "639/639 [==============================] - 85s 133ms/step - loss: 1.0385 - categorical_accuracy: 0.6134 - val_loss: 1.7013 - val_categorical_accuracy: 0.6800\n",
      "Epoch 3/20\n",
      "639/639 [==============================] - 88s 138ms/step - loss: 0.8308 - categorical_accuracy: 0.6999 - val_loss: 1.4345 - val_categorical_accuracy: 0.6200\n",
      "Epoch 4/20\n",
      "639/639 [==============================] - 87s 136ms/step - loss: 0.7397 - categorical_accuracy: 0.7359 - val_loss: 3.3763 - val_categorical_accuracy: 0.5000\n",
      "Epoch 5/20\n",
      "639/639 [==============================] - 90s 140ms/step - loss: 0.6929 - categorical_accuracy: 0.7509 - val_loss: 1.3357 - val_categorical_accuracy: 0.6600\n",
      "Epoch 6/20\n",
      "639/639 [==============================] - 89s 139ms/step - loss: 0.6477 - categorical_accuracy: 0.7697 - val_loss: 7.0802 - val_categorical_accuracy: 0.3800\n",
      "Epoch 7/20\n",
      "639/639 [==============================] - 86s 135ms/step - loss: 0.6234 - categorical_accuracy: 0.7822 - val_loss: 9.9391 - val_categorical_accuracy: 0.2600\n",
      "Epoch 8/20\n",
      "639/639 [==============================] - 86s 135ms/step - loss: 0.5770 - categorical_accuracy: 0.8009 - val_loss: 1.2024 - val_categorical_accuracy: 0.7400\n",
      "Epoch 9/20\n",
      "639/639 [==============================] - 86s 134ms/step - loss: 0.5639 - categorical_accuracy: 0.8032 - val_loss: 0.9820 - val_categorical_accuracy: 0.7800\n",
      "Epoch 10/20\n",
      "639/639 [==============================] - 89s 139ms/step - loss: 0.5600 - categorical_accuracy: 0.8081 - val_loss: 1.9802 - val_categorical_accuracy: 0.6800\n",
      "Epoch 11/20\n",
      "639/639 [==============================] - 90s 141ms/step - loss: 0.5401 - categorical_accuracy: 0.8128 - val_loss: 1.5263 - val_categorical_accuracy: 0.6600\n",
      "Epoch 12/20\n",
      "639/639 [==============================] - 91s 142ms/step - loss: 0.5592 - categorical_accuracy: 0.8095 - val_loss: 4.1363 - val_categorical_accuracy: 0.5200\n",
      "Epoch 13/20\n",
      "639/639 [==============================] - 89s 139ms/step - loss: 0.5060 - categorical_accuracy: 0.8254 - val_loss: 4.2210 - val_categorical_accuracy: 0.6200\n",
      "Epoch 14/20\n",
      "639/639 [==============================] - 88s 137ms/step - loss: 0.5150 - categorical_accuracy: 0.8214 - val_loss: 4.7233 - val_categorical_accuracy: 0.5800\n",
      "Epoch 15/20\n",
      "639/639 [==============================] - 88s 138ms/step - loss: 0.4859 - categorical_accuracy: 0.8325 - val_loss: 1.7126 - val_categorical_accuracy: 0.7200\n",
      "Epoch 16/20\n",
      "639/639 [==============================] - 88s 138ms/step - loss: 0.4843 - categorical_accuracy: 0.8318 - val_loss: 4.0358 - val_categorical_accuracy: 0.5600\n",
      "Epoch 17/20\n",
      "639/639 [==============================] - 86s 135ms/step - loss: 0.4721 - categorical_accuracy: 0.8373 - val_loss: 1.5090 - val_categorical_accuracy: 0.7000\n",
      "Epoch 18/20\n",
      "639/639 [==============================] - 85s 133ms/step - loss: 0.4652 - categorical_accuracy: 0.8403 - val_loss: 4.5377 - val_categorical_accuracy: 0.5400\n",
      "Epoch 19/20\n",
      "639/639 [==============================] - 85s 133ms/step - loss: 0.4644 - categorical_accuracy: 0.8379 - val_loss: 2.2242 - val_categorical_accuracy: 0.7400\n",
      "Epoch 20/20\n",
      "639/639 [==============================] - 86s 134ms/step - loss: 0.4619 - categorical_accuracy: 0.8404 - val_loss: 1.9597 - val_categorical_accuracy: 0.7800\n"
     ]
    }
   ],
   "source": [
    "history = model2.fit(train_gen,\n",
    "\n",
    "                     epochs=20,\n",
    "                    validation_data=valid_gen,\n",
    "                    validation_steps=10)"
   ]
  },
  {
   "cell_type": "code",
   "execution_count": 9,
   "id": "cd645b5e",
   "metadata": {},
   "outputs": [],
   "source": [
    "acc=history.history['categorical_accuracy']\n",
    "val_acc=history.history['val_categorical_accuracy']\n",
    "loss=history.history['loss']\n",
    "val_loss=history.history['val_loss']"
   ]
  },
  {
   "cell_type": "code",
   "execution_count": 10,
   "id": "29b92ae7",
   "metadata": {},
   "outputs": [
    {
     "data": {
      "image/png": "[encoded data removed]",
      "text/plain": [
       "<Figure size 432x288 with 1 Axes>"
      ]
     },
     "metadata": {
      "needs_background": "light"
     },
     "output_type": "display_data"
    }
   ],
   "source": [
    "epochs=range(1,len(acc)+1)\n",
    "plt.plot(epochs,acc,'bo',label=\"train accuracy\")\n",
    "plt.plot(epochs,val_acc,'b',label=\"val accuracy\")\n",
    "plt.legend()\n",
    "plt.show()"
   ]
  },
  {
   "cell_type": "code",
   "execution_count": 11,
   "id": "ddaea20f",
   "metadata": {},
   "outputs": [
    {
     "data": {
      "image/png": "[encoded data removed]",
      "text/plain": [
       "<Figure size 432x288 with 1 Axes>"
      ]
     },
     "metadata": {
      "needs_background": "light"
     },
     "output_type": "display_data"
    }
   ],
   "source": [
    "epochs=range(1,len(acc)+1)\n",
    "plt.plot(epochs,loss,'bo',label=\"train loss\")\n",
    "plt.plot(epochs,val_loss,'b',label=\"val loss\")\n",
    "plt.legend()\n",
    "plt.show()"
   ]
  },
  {
   "cell_type": "markdown",
   "id": "a32d269e",
   "metadata": {},
   "source": [
    "it seems .3 performs better than .15 so lets try .5 guasisanDropout"
   ]
  },
  {
   "cell_type": "markdown",
   "id": "5da8b88c",
   "metadata": {},
   "source": [
    "# Model with .5 Gaussian Dropout"
   ]
  },
  {
   "cell_type": "code",
   "execution_count": 4,
   "id": "e82453b0",
   "metadata": {},
   "outputs": [],
   "source": [
    "kernel=(3,3)\n",
    "model2 = models.Sequential()\n",
    "model2.add(layers.Conv2D(32, kernel,activation=\"relu\",input_shape=(150,150,3)))\n",
    "model2.add(layers.BatchNormalization())\n",
    "model2.add(layers.GaussianDropout(.5))\n",
    "model2.add(layers.MaxPooling2D(pool_size=(2, 2)))\n",
    "model2.add(layers.Conv2D(64, kernel,activation=\"relu\",input_shape=(150,150,3)))\n",
    "model2.add(layers.BatchNormalization())\n",
    "model2.add(layers.GaussianDropout(.5))\n",
    "model2.add(layers.MaxPooling2D(pool_size=(2, 2)))\n",
    "model2.add(layers.Conv2D(128, kernel,activation=\"relu\",input_shape=(150,150,3)))\n",
    "model2.add(layers.BatchNormalization())\n",
    "model2.add(layers.GaussianDropout(.5))\n",
    "model2.add(layers.MaxPooling2D(pool_size=(2, 2)))\n",
    "model2.add(layers.Flatten())\n",
    "model2.add(layers.Dense(128, activation='relu'))\n",
    "model2.add(layers.Dense(6, activation='softmax'))\n",
    "\n",
    "model2.compile(loss='categorical_crossentropy', optimizer='adam', metrics=['categorical_accuracy'])"
   ]
  },
  {
   "cell_type": "code",
   "execution_count": 5,
   "id": "514acc78",
   "metadata": {},
   "outputs": [
    {
     "name": "stdout",
     "output_type": "stream",
     "text": [
      "Epoch 1/20\n",
      "639/639 [==============================] - 88s 132ms/step - loss: 1.8576 - categorical_accuracy: 0.4947 - val_loss: 16.2884 - val_categorical_accuracy: 0.2600\n",
      "Epoch 2/20\n",
      "639/639 [==============================] - 83s 130ms/step - loss: 1.1034 - categorical_accuracy: 0.5908 - val_loss: 5.0325 - val_categorical_accuracy: 0.5200\n",
      "Epoch 3/20\n",
      "639/639 [==============================] - 83s 131ms/step - loss: 0.9665 - categorical_accuracy: 0.6472 - val_loss: 16.1352 - val_categorical_accuracy: 0.5200\n",
      "Epoch 4/20\n",
      "639/639 [==============================] - 85s 133ms/step - loss: 0.8538 - categorical_accuracy: 0.6943 - val_loss: 6.5300 - val_categorical_accuracy: 0.5600\n",
      "Epoch 5/20\n",
      "639/639 [==============================] - 85s 132ms/step - loss: 0.7965 - categorical_accuracy: 0.7213 - val_loss: 3.9718 - val_categorical_accuracy: 0.6000\n",
      "Epoch 6/20\n",
      "639/639 [==============================] - 85s 132ms/step - loss: 0.7268 - categorical_accuracy: 0.7502 - val_loss: 7.6389 - val_categorical_accuracy: 0.4600\n",
      "Epoch 7/20\n",
      "639/639 [==============================] - 86s 134ms/step - loss: 0.6902 - categorical_accuracy: 0.7621 - val_loss: 7.6084 - val_categorical_accuracy: 0.5800\n",
      "Epoch 8/20\n",
      "639/639 [==============================] - 85s 132ms/step - loss: 0.6542 - categorical_accuracy: 0.7774 - val_loss: 4.4510 - val_categorical_accuracy: 0.5800\n",
      "Epoch 9/20\n",
      "639/639 [==============================] - 85s 132ms/step - loss: 0.6230 - categorical_accuracy: 0.7856 - val_loss: 8.4705 - val_categorical_accuracy: 0.4800\n",
      "Epoch 10/20\n",
      "639/639 [==============================] - 84s 132ms/step - loss: 0.6044 - categorical_accuracy: 0.7942 - val_loss: 3.7110 - val_categorical_accuracy: 0.6200\n",
      "Epoch 11/20\n",
      "639/639 [==============================] - 85s 133ms/step - loss: 0.5946 - categorical_accuracy: 0.7957 - val_loss: 13.1999 - val_categorical_accuracy: 0.4800\n",
      "Epoch 12/20\n",
      "639/639 [==============================] - 83s 131ms/step - loss: 0.5800 - categorical_accuracy: 0.8043 - val_loss: 3.6253 - val_categorical_accuracy: 0.5200\n",
      "Epoch 13/20\n",
      "639/639 [==============================] - 84s 131ms/step - loss: 0.5620 - categorical_accuracy: 0.8084 - val_loss: 8.8996 - val_categorical_accuracy: 0.4200\n",
      "Epoch 14/20\n",
      "639/639 [==============================] - 85s 133ms/step - loss: 0.5557 - categorical_accuracy: 0.8114 - val_loss: 2.6835 - val_categorical_accuracy: 0.6400\n",
      "Epoch 15/20\n",
      "639/639 [==============================] - 84s 131ms/step - loss: 0.5427 - categorical_accuracy: 0.8178 - val_loss: 2.5517 - val_categorical_accuracy: 0.6800\n",
      "Epoch 16/20\n",
      "639/639 [==============================] - 82s 129ms/step - loss: 0.5373 - categorical_accuracy: 0.8182 - val_loss: 3.5110 - val_categorical_accuracy: 0.6600\n",
      "Epoch 17/20\n",
      "639/639 [==============================] - 82s 128ms/step - loss: 0.5224 - categorical_accuracy: 0.8214 - val_loss: 4.1764 - val_categorical_accuracy: 0.5400\n",
      "Epoch 18/20\n",
      "639/639 [==============================] - 82s 129ms/step - loss: 0.5174 - categorical_accuracy: 0.8257 - val_loss: 5.8998 - val_categorical_accuracy: 0.5800\n",
      "Epoch 19/20\n",
      "639/639 [==============================] - 82s 128ms/step - loss: 0.5039 - categorical_accuracy: 0.8294 - val_loss: 2.8606 - val_categorical_accuracy: 0.6200\n",
      "Epoch 20/20\n",
      "639/639 [==============================] - 83s 129ms/step - loss: 0.4951 - categorical_accuracy: 0.8293 - val_loss: 4.2560 - val_categorical_accuracy: 0.5600\n"
     ]
    }
   ],
   "source": [
    "history = model2.fit(train_gen,\n",
    "\n",
    "                     epochs=20,\n",
    "                    validation_data=valid_gen,\n",
    "                    validation_steps=10)"
   ]
  },
  {
   "cell_type": "markdown",
   "id": "2353aca1",
   "metadata": {},
   "source": [
    "The above results that high dropout rate ;eads to severe overfitting."
   ]
  },
  {
   "cell_type": "markdown",
   "id": "3af285e0",
   "metadata": {},
   "source": [
    "# Lets try just one layer of Gaussian dropout at the end of the model and see how that effects the results"
   ]
  },
  {
   "cell_type": "code",
   "execution_count": 6,
   "id": "9190578c",
   "metadata": {},
   "outputs": [
    {
     "name": "stdout",
     "output_type": "stream",
     "text": [
      "Epoch 1/20\n",
      "639/639 [==============================] - 84s 130ms/step - loss: 1.4620 - categorical_accuracy: 0.5586 - val_loss: 1.1133 - val_categorical_accuracy: 0.7000\n",
      "Epoch 2/20\n",
      "639/639 [==============================] - 83s 130ms/step - loss: 0.8533 - categorical_accuracy: 0.6885 - val_loss: 0.9124 - val_categorical_accuracy: 0.6400\n",
      "Epoch 3/20\n",
      "639/639 [==============================] - 82s 129ms/step - loss: 0.7778 - categorical_accuracy: 0.7231 - val_loss: 2.3461 - val_categorical_accuracy: 0.4400\n",
      "Epoch 4/20\n",
      "639/639 [==============================] - 82s 128ms/step - loss: 0.7087 - categorical_accuracy: 0.7479 - val_loss: 1.0663 - val_categorical_accuracy: 0.5400\n",
      "Epoch 5/20\n",
      "639/639 [==============================] - 83s 130ms/step - loss: 0.6460 - categorical_accuracy: 0.7695 - val_loss: 0.5159 - val_categorical_accuracy: 0.8400\n",
      "Epoch 6/20\n",
      "639/639 [==============================] - 81s 127ms/step - loss: 0.6108 - categorical_accuracy: 0.7848 - val_loss: 0.9827 - val_categorical_accuracy: 0.7400\n",
      "Epoch 7/20\n",
      "639/639 [==============================] - 83s 129ms/step - loss: 0.5710 - categorical_accuracy: 0.7998 - val_loss: 0.7055 - val_categorical_accuracy: 0.6800\n",
      "Epoch 8/20\n",
      "639/639 [==============================] - 82s 128ms/step - loss: 0.5609 - categorical_accuracy: 0.8014 - val_loss: 0.7569 - val_categorical_accuracy: 0.7000\n",
      "Epoch 9/20\n",
      "639/639 [==============================] - 82s 129ms/step - loss: 0.5469 - categorical_accuracy: 0.8101 - val_loss: 1.1441 - val_categorical_accuracy: 0.6400\n",
      "Epoch 10/20\n",
      "639/639 [==============================] - 82s 129ms/step - loss: 0.5312 - categorical_accuracy: 0.8166 - val_loss: 1.0314 - val_categorical_accuracy: 0.7400\n",
      "Epoch 11/20\n",
      "639/639 [==============================] - 83s 129ms/step - loss: 0.5096 - categorical_accuracy: 0.8193 - val_loss: 0.6554 - val_categorical_accuracy: 0.7600\n",
      "Epoch 12/20\n",
      "639/639 [==============================] - 82s 128ms/step - loss: 0.4991 - categorical_accuracy: 0.8238 - val_loss: 0.7443 - val_categorical_accuracy: 0.8000\n",
      "Epoch 13/20\n",
      "639/639 [==============================] - 81s 126ms/step - loss: 0.4960 - categorical_accuracy: 0.8307 - val_loss: 1.0042 - val_categorical_accuracy: 0.7000\n",
      "Epoch 14/20\n",
      "639/639 [==============================] - 81s 126ms/step - loss: 0.4751 - categorical_accuracy: 0.8369 - val_loss: 0.9271 - val_categorical_accuracy: 0.7400\n",
      "Epoch 15/20\n",
      "639/639 [==============================] - 81s 127ms/step - loss: 0.4681 - categorical_accuracy: 0.8393 - val_loss: 0.2807 - val_categorical_accuracy: 0.9200\n",
      "Epoch 16/20\n",
      "639/639 [==============================] - 81s 127ms/step - loss: 0.4695 - categorical_accuracy: 0.8379 - val_loss: 0.4971 - val_categorical_accuracy: 0.8600\n",
      "Epoch 17/20\n",
      "639/639 [==============================] - 81s 127ms/step - loss: 0.4555 - categorical_accuracy: 0.8409 - val_loss: 0.6688 - val_categorical_accuracy: 0.7400\n",
      "Epoch 18/20\n",
      "639/639 [==============================] - 81s 127ms/step - loss: 0.4302 - categorical_accuracy: 0.8503 - val_loss: 0.5434 - val_categorical_accuracy: 0.8000\n",
      "Epoch 19/20\n",
      "639/639 [==============================] - 81s 127ms/step - loss: 0.4394 - categorical_accuracy: 0.8476 - val_loss: 0.8539 - val_categorical_accuracy: 0.7000\n",
      "Epoch 20/20\n",
      "639/639 [==============================] - 83s 129ms/step - loss: 0.4323 - categorical_accuracy: 0.8508 - val_loss: 0.5517 - val_categorical_accuracy: 0.8600\n"
     ]
    }
   ],
   "source": [
    "kernel=(3,3)\n",
    "model2 = models.Sequential()\n",
    "model2.add(layers.Conv2D(32, kernel,activation=\"relu\",input_shape=(150,150,3)))\n",
    "model2.add(layers.BatchNormalization())\n",
    "\n",
    "model2.add(layers.MaxPooling2D(pool_size=(2, 2)))\n",
    "model2.add(layers.Conv2D(64, kernel,activation=\"relu\",input_shape=(150,150,3)))\n",
    "model2.add(layers.BatchNormalization())\n",
    "\n",
    "model2.add(layers.MaxPooling2D(pool_size=(2, 2)))\n",
    "model2.add(layers.Conv2D(128, kernel,activation=\"relu\",input_shape=(150,150,3)))\n",
    "model2.add(layers.BatchNormalization())\n",
    "\n",
    "model2.add(layers.MaxPooling2D(pool_size=(2, 2)))\n",
    "model2.add(layers.Flatten())\n",
    "model2.add(layers.GaussianDropout(.3))\n",
    "model2.add(layers.Dense(128, activation='relu'))\n",
    "model2.add(layers.Dense(6, activation='softmax'))\n",
    "\n",
    "model2.compile(loss='categorical_crossentropy', optimizer='adam', metrics=['categorical_accuracy'])\n",
    "history = model2.fit(train_gen,\n",
    "\n",
    "                     epochs=20,\n",
    "                    validation_data=valid_gen,\n",
    "                    validation_steps=10)"
   ]
  },
  {
   "cell_type": "code",
   "execution_count": 7,
   "id": "4dd0b77d",
   "metadata": {},
   "outputs": [],
   "source": [
    "acc=history.history['categorical_accuracy']\n",
    "val_acc=history.history['val_categorical_accuracy']\n",
    "loss=history.history['loss']\n",
    "val_loss=history.history['val_loss']"
   ]
  },
  {
   "cell_type": "code",
   "execution_count": 8,
   "id": "a030b1ae",
   "metadata": {},
   "outputs": [
    {
     "data": {
      "image/png": "[encoded data removed]",
      "text/plain": [
       "<Figure size 432x288 with 1 Axes>"
      ]
     },
     "metadata": {
      "needs_background": "light"
     },
     "output_type": "display_data"
    }
   ],
   "source": [
    "epochs=range(1,len(acc)+1)\n",
    "plt.plot(epochs,acc,'bo',label=\"train accuracy\")\n",
    "plt.plot(epochs,val_acc,'ro',label=\"val accuracy\")\n",
    "plt.legend()\n",
    "plt.show()"
   ]
  },
  {
   "cell_type": "code",
   "execution_count": 9,
   "id": "ccb8496b",
   "metadata": {},
   "outputs": [
    {
     "data": {
      "image/png": "[encoded data removed]",
      "text/plain": [
       "<Figure size 432x288 with 1 Axes>"
      ]
     },
     "metadata": {
      "needs_background": "light"
     },
     "output_type": "display_data"
    }
   ],
   "source": [
    "epochs=range(1,len(acc)+1)\n",
    "plt.plot(epochs,loss,'bo',label=\"train loss\")\n",
    "plt.plot(epochs,val_loss,'ro',label=\"val loss\")\n",
    "plt.legend()\n",
    "plt.show()"
   ]
  },
  {
   "cell_type": "markdown",
   "id": "a85d6b09",
   "metadata": {},
   "source": [
    "# Now lets try a model that does one GaussianDropout per convo and then before the dense layer "
   ]
  },
  {
   "cell_type": "code",
   "execution_count": 10,
   "id": "428a5120",
   "metadata": {},
   "outputs": [
    {
     "name": "stdout",
     "output_type": "stream",
     "text": [
      "Epoch 1/20\n",
      "639/639 [==============================] - 85s 131ms/step - loss: 1.9508 - categorical_accuracy: 0.4626 - val_loss: 4.8296 - val_categorical_accuracy: 0.5200\n",
      "Epoch 2/20\n",
      "639/639 [==============================] - 82s 128ms/step - loss: 1.0537 - categorical_accuracy: 0.6058 - val_loss: 1.1827 - val_categorical_accuracy: 0.6800\n",
      "Epoch 3/20\n",
      "639/639 [==============================] - 84s 132ms/step - loss: 0.8925 - categorical_accuracy: 0.6759 - val_loss: 2.1153 - val_categorical_accuracy: 0.5800\n",
      "Epoch 4/20\n",
      "639/639 [==============================] - 86s 134ms/step - loss: 0.7978 - categorical_accuracy: 0.7166 - val_loss: 2.4303 - val_categorical_accuracy: 0.5400\n",
      "Epoch 5/20\n",
      "639/639 [==============================] - 83s 130ms/step - loss: 0.7283 - categorical_accuracy: 0.7407 - val_loss: 1.4755 - val_categorical_accuracy: 0.5800\n",
      "Epoch 6/20\n",
      "639/639 [==============================] - 84s 131ms/step - loss: 0.6913 - categorical_accuracy: 0.7560 - val_loss: 1.3464 - val_categorical_accuracy: 0.6200\n",
      "Epoch 7/20\n",
      "639/639 [==============================] - 86s 135ms/step - loss: 0.6691 - categorical_accuracy: 0.7665 - val_loss: 1.9275 - val_categorical_accuracy: 0.6000\n",
      "Epoch 8/20\n",
      "639/639 [==============================] - 83s 130ms/step - loss: 0.6497 - categorical_accuracy: 0.7775 - val_loss: 0.7239 - val_categorical_accuracy: 0.7200\n",
      "Epoch 9/20\n",
      "639/639 [==============================] - 83s 130ms/step - loss: 0.5998 - categorical_accuracy: 0.7903 - val_loss: 1.1774 - val_categorical_accuracy: 0.7400\n",
      "Epoch 10/20\n",
      "639/639 [==============================] - 85s 134ms/step - loss: 0.5754 - categorical_accuracy: 0.7965 - val_loss: 0.8948 - val_categorical_accuracy: 0.8200\n",
      "Epoch 11/20\n",
      "639/639 [==============================] - 84s 131ms/step - loss: 0.5800 - categorical_accuracy: 0.7951 - val_loss: 1.9431 - val_categorical_accuracy: 0.6200\n",
      "Epoch 12/20\n",
      "639/639 [==============================] - 83s 130ms/step - loss: 0.5645 - categorical_accuracy: 0.8042 - val_loss: 0.6800 - val_categorical_accuracy: 0.6800\n",
      "Epoch 13/20\n",
      "639/639 [==============================] - 82s 128ms/step - loss: 0.5421 - categorical_accuracy: 0.8111 - val_loss: 2.7571 - val_categorical_accuracy: 0.6000\n",
      "Epoch 14/20\n",
      "639/639 [==============================] - 83s 130ms/step - loss: 0.5216 - categorical_accuracy: 0.8186 - val_loss: 5.7158 - val_categorical_accuracy: 0.4200\n",
      "Epoch 15/20\n",
      "639/639 [==============================] - 83s 130ms/step - loss: 0.5144 - categorical_accuracy: 0.8222 - val_loss: 2.2567 - val_categorical_accuracy: 0.6000\n",
      "Epoch 16/20\n",
      "639/639 [==============================] - 83s 130ms/step - loss: 0.5061 - categorical_accuracy: 0.8261 - val_loss: 2.0477 - val_categorical_accuracy: 0.7000\n",
      "Epoch 17/20\n",
      "639/639 [==============================] - 83s 130ms/step - loss: 0.5807 - categorical_accuracy: 0.8049 - val_loss: 136.3457 - val_categorical_accuracy: 0.3400\n",
      "Epoch 18/20\n",
      "639/639 [==============================] - 84s 132ms/step - loss: 0.5254 - categorical_accuracy: 0.8157 - val_loss: 3.0679 - val_categorical_accuracy: 0.6600\n",
      "Epoch 19/20\n",
      "639/639 [==============================] - 83s 130ms/step - loss: 0.4830 - categorical_accuracy: 0.8324 - val_loss: 4.0486 - val_categorical_accuracy: 0.7000\n",
      "Epoch 20/20\n",
      "639/639 [==============================] - 83s 129ms/step - loss: 0.4807 - categorical_accuracy: 0.8344 - val_loss: 3.3914 - val_categorical_accuracy: 0.7200\n"
     ]
    }
   ],
   "source": [
    "kernel=(3,3)\n",
    "model2 = models.Sequential()\n",
    "model2.add(layers.Conv2D(32, kernel,activation=\"relu\",input_shape=(150,150,3)))\n",
    "model2.add(layers.BatchNormalization())\n",
    "model2.add(layers.GaussianDropout(.3))\n",
    "model2.add(layers.MaxPooling2D(pool_size=(2, 2)))\n",
    "model2.add(layers.Conv2D(64, kernel,activation=\"relu\",input_shape=(150,150,3)))\n",
    "model2.add(layers.BatchNormalization())\n",
    "model2.add(layers.GaussianDropout(.3))\n",
    "model2.add(layers.MaxPooling2D(pool_size=(2, 2)))\n",
    "model2.add(layers.Conv2D(128, kernel,activation=\"relu\",input_shape=(150,150,3)))\n",
    "model2.add(layers.BatchNormalization())\n",
    "model2.add(layers.GaussianDropout(.3))\n",
    "model2.add(layers.MaxPooling2D(pool_size=(2, 2)))\n",
    "model2.add(layers.Flatten())\n",
    "model2.add(layers.GaussianDropout(.3))\n",
    "model2.add(layers.Dense(128, activation='relu'))\n",
    "model2.add(layers.Dense(6, activation='softmax'))\n",
    "\n",
    "model2.compile(loss='categorical_crossentropy', optimizer='adam', metrics=['categorical_accuracy'])\n",
    "history = model2.fit(train_gen,\n",
    "\n",
    "                     epochs=20,\n",
    "                    validation_data=valid_gen,\n",
    "                    validation_steps=10)"
   ]
  },
  {
   "cell_type": "markdown",
   "id": "bc205e49",
   "metadata": {},
   "source": [
    "In conclusion it seems that changing the order did not change a bit did not imporve the previous model. Lets implment regular dropout to see how it compares with gaussian dropout"
   ]
  },
  {
   "cell_type": "markdown",
   "id": "342b489d",
   "metadata": {},
   "source": [
    "# Model With Dropout at a rate of .15"
   ]
  },
  {
   "cell_type": "code",
   "execution_count": 6,
   "id": "60acf1ed",
   "metadata": {},
   "outputs": [
    {
     "name": "stdout",
     "output_type": "stream",
     "text": [
      "Epoch 1/20\n",
      "639/639 [==============================] - 84s 129ms/step - loss: 1.8230 - categorical_accuracy: 0.5268 - val_loss: 1.5515 - val_categorical_accuracy: 0.4800\n",
      "Epoch 2/20\n",
      "639/639 [==============================] - 84s 132ms/step - loss: 1.0000 - categorical_accuracy: 0.6261 - val_loss: 0.8368 - val_categorical_accuracy: 0.7200\n",
      "Epoch 3/20\n",
      "639/639 [==============================] - 83s 130ms/step - loss: 0.8029 - categorical_accuracy: 0.7113 - val_loss: 1.2024 - val_categorical_accuracy: 0.6400\n",
      "Epoch 4/20\n",
      "639/639 [==============================] - 82s 129ms/step - loss: 0.7434 - categorical_accuracy: 0.7355 - val_loss: 0.6608 - val_categorical_accuracy: 0.7800\n",
      "Epoch 5/20\n",
      "639/639 [==============================] - 84s 132ms/step - loss: 0.6685 - categorical_accuracy: 0.7623 - val_loss: 1.1479 - val_categorical_accuracy: 0.6600\n",
      "Epoch 6/20\n",
      "639/639 [==============================] - 83s 129ms/step - loss: 0.6437 - categorical_accuracy: 0.7739 - val_loss: 1.1498 - val_categorical_accuracy: 0.7000\n",
      "Epoch 7/20\n",
      "639/639 [==============================] - 82s 128ms/step - loss: 0.6142 - categorical_accuracy: 0.7854 - val_loss: 2.2075 - val_categorical_accuracy: 0.5200\n",
      "Epoch 8/20\n",
      "639/639 [==============================] - 83s 129ms/step - loss: 0.5631 - categorical_accuracy: 0.8004 - val_loss: 1.4399 - val_categorical_accuracy: 0.6200\n",
      "Epoch 9/20\n",
      "639/639 [==============================] - 83s 129ms/step - loss: 0.5440 - categorical_accuracy: 0.8091 - val_loss: 3.9439 - val_categorical_accuracy: 0.5600\n",
      "Epoch 10/20\n",
      "639/639 [==============================] - 82s 129ms/step - loss: 0.5404 - categorical_accuracy: 0.8093 - val_loss: 0.5415 - val_categorical_accuracy: 0.7800\n",
      "Epoch 11/20\n",
      "639/639 [==============================] - 82s 129ms/step - loss: 0.5774 - categorical_accuracy: 0.8104 - val_loss: 9.5381 - val_categorical_accuracy: 0.4200\n",
      "Epoch 12/20\n",
      "639/639 [==============================] - 82s 128ms/step - loss: 0.5338 - categorical_accuracy: 0.8165 - val_loss: 0.9177 - val_categorical_accuracy: 0.7400\n",
      "Epoch 13/20\n",
      "639/639 [==============================] - 83s 131ms/step - loss: 0.4885 - categorical_accuracy: 0.8285 - val_loss: 1.5939 - val_categorical_accuracy: 0.6600\n",
      "Epoch 14/20\n",
      "639/639 [==============================] - 83s 129ms/step - loss: 0.4937 - categorical_accuracy: 0.8279 - val_loss: 0.7839 - val_categorical_accuracy: 0.7600\n",
      "Epoch 15/20\n",
      "639/639 [==============================] - 82s 129ms/step - loss: 0.4692 - categorical_accuracy: 0.8346 - val_loss: 0.7604 - val_categorical_accuracy: 0.7600\n",
      "Epoch 16/20\n",
      "639/639 [==============================] - 84s 131ms/step - loss: 0.4600 - categorical_accuracy: 0.8400 - val_loss: 0.9034 - val_categorical_accuracy: 0.7800\n",
      "Epoch 17/20\n",
      "639/639 [==============================] - 84s 132ms/step - loss: 0.4515 - categorical_accuracy: 0.8381 - val_loss: 0.2983 - val_categorical_accuracy: 0.9000\n",
      "Epoch 18/20\n",
      "639/639 [==============================] - 85s 132ms/step - loss: 0.4403 - categorical_accuracy: 0.8460 - val_loss: 0.3515 - val_categorical_accuracy: 0.9200\n",
      "Epoch 19/20\n",
      "639/639 [==============================] - 83s 130ms/step - loss: 0.4343 - categorical_accuracy: 0.8480 - val_loss: 0.6602 - val_categorical_accuracy: 0.7800\n",
      "Epoch 20/20\n",
      "639/639 [==============================] - 83s 129ms/step - loss: 0.4265 - categorical_accuracy: 0.8512 - val_loss: 0.6516 - val_categorical_accuracy: 0.8400\n"
     ]
    }
   ],
   "source": [
    "kernel=(3,3)\n",
    "model2 = models.Sequential()\n",
    "model2.add(layers.Conv2D(32, kernel,activation=\"relu\",input_shape=(150,150,3)))\n",
    "model2.add(layers.BatchNormalization())\n",
    "model2.add(layers.Dropout(.15))\n",
    "model2.add(layers.MaxPooling2D(pool_size=(2, 2)))\n",
    "model2.add(layers.Conv2D(64, kernel,activation=\"relu\",input_shape=(150,150,3)))\n",
    "model2.add(layers.BatchNormalization())\n",
    "model2.add(layers.Dropout(.15))\n",
    "model2.add(layers.MaxPooling2D(pool_size=(2, 2)))\n",
    "model2.add(layers.Conv2D(128, kernel,activation=\"relu\",input_shape=(150,150,3)))\n",
    "model2.add(layers.BatchNormalization())\n",
    "model2.add(layers.Dropout(.15))\n",
    "model2.add(layers.MaxPooling2D(pool_size=(2, 2)))\n",
    "model2.add(layers.Flatten())\n",
    "model2.add(layers.Dense(128, activation='relu'))\n",
    "model2.add(layers.Dense(6, activation='softmax'))\n",
    "\n",
    "model2.compile(loss='categorical_crossentropy', optimizer='adam', metrics=['categorical_accuracy'])\n",
    "history = model2.fit(train_gen,\n",
    "\n",
    "                     epochs=20,\n",
    "                    validation_data=valid_gen,\n",
    "                    validation_steps=10)"
   ]
  },
  {
   "cell_type": "markdown",
   "id": "f5e95a65",
   "metadata": {},
   "source": [
    "it seems that dropout of .15 performed of so lets try a slightly higher rate of  .3"
   ]
  },
  {
   "cell_type": "markdown",
   "id": "91dd5eb3",
   "metadata": {},
   "source": [
    "# Model With a dropout rate of .3"
   ]
  },
  {
   "cell_type": "code",
   "execution_count": 7,
   "id": "a5f86b28",
   "metadata": {
    "scrolled": true
   },
   "outputs": [
    {
     "name": "stdout",
     "output_type": "stream",
     "text": [
      "Epoch 1/20\n",
      "639/639 [==============================] - 84s 129ms/step - loss: 1.9101 - categorical_accuracy: 0.5389 - val_loss: 2.3856 - val_categorical_accuracy: 0.5600\n",
      "Epoch 2/20\n",
      "639/639 [==============================] - 83s 130ms/step - loss: 0.9717 - categorical_accuracy: 0.6484 - val_loss: 3.0199 - val_categorical_accuracy: 0.4200\n",
      "Epoch 3/20\n",
      "639/639 [==============================] - 84s 132ms/step - loss: 0.8100 - categorical_accuracy: 0.7102 - val_loss: 1.3676 - val_categorical_accuracy: 0.6600\n",
      "Epoch 4/20\n",
      "639/639 [==============================] - 84s 131ms/step - loss: 0.6822 - categorical_accuracy: 0.7566 - val_loss: 2.4628 - val_categorical_accuracy: 0.4600\n",
      "Epoch 5/20\n",
      "639/639 [==============================] - 83s 130ms/step - loss: 0.6540 - categorical_accuracy: 0.7710 - val_loss: 0.9265 - val_categorical_accuracy: 0.6600\n",
      "Epoch 6/20\n",
      "639/639 [==============================] - 82s 129ms/step - loss: 0.6290 - categorical_accuracy: 0.7803 - val_loss: 0.8083 - val_categorical_accuracy: 0.7600\n",
      "Epoch 7/20\n",
      "639/639 [==============================] - 82s 128ms/step - loss: 0.5937 - categorical_accuracy: 0.7937 - val_loss: 1.2284 - val_categorical_accuracy: 0.6000\n",
      "Epoch 8/20\n",
      "639/639 [==============================] - 83s 129ms/step - loss: 0.5807 - categorical_accuracy: 0.7980 - val_loss: 1.9985 - val_categorical_accuracy: 0.6600\n",
      "Epoch 9/20\n",
      "639/639 [==============================] - 83s 129ms/step - loss: 0.5607 - categorical_accuracy: 0.8080 - val_loss: 0.8091 - val_categorical_accuracy: 0.7000\n",
      "Epoch 10/20\n",
      "639/639 [==============================] - 82s 129ms/step - loss: 0.5362 - categorical_accuracy: 0.8138 - val_loss: 1.9252 - val_categorical_accuracy: 0.6000\n",
      "Epoch 11/20\n",
      "639/639 [==============================] - 83s 129ms/step - loss: 0.5558 - categorical_accuracy: 0.8118 - val_loss: 1.2892 - val_categorical_accuracy: 0.7000\n",
      "Epoch 12/20\n",
      "639/639 [==============================] - 83s 130ms/step - loss: 0.5218 - categorical_accuracy: 0.8210 - val_loss: 1.3765 - val_categorical_accuracy: 0.7000\n",
      "Epoch 13/20\n",
      "639/639 [==============================] - 83s 130ms/step - loss: 0.5180 - categorical_accuracy: 0.8213 - val_loss: 1.4228 - val_categorical_accuracy: 0.6800\n",
      "Epoch 14/20\n",
      "639/639 [==============================] - 82s 129ms/step - loss: 0.4838 - categorical_accuracy: 0.8332 - val_loss: 1.3282 - val_categorical_accuracy: 0.7000\n",
      "Epoch 15/20\n",
      "639/639 [==============================] - 83s 129ms/step - loss: 0.4799 - categorical_accuracy: 0.8344 - val_loss: 3.9607 - val_categorical_accuracy: 0.5800\n",
      "Epoch 16/20\n",
      "639/639 [==============================] - 83s 130ms/step - loss: 0.4862 - categorical_accuracy: 0.8316 - val_loss: 1.5511 - val_categorical_accuracy: 0.8000\n",
      "Epoch 17/20\n",
      "639/639 [==============================] - 83s 130ms/step - loss: 0.4600 - categorical_accuracy: 0.8413 - val_loss: 1.8109 - val_categorical_accuracy: 0.7000\n",
      "Epoch 18/20\n",
      "639/639 [==============================] - 83s 130ms/step - loss: 0.4575 - categorical_accuracy: 0.8425 - val_loss: 3.8864 - val_categorical_accuracy: 0.6800\n",
      "Epoch 19/20\n",
      "639/639 [==============================] - 82s 129ms/step - loss: 0.4398 - categorical_accuracy: 0.8506 - val_loss: 2.2597 - val_categorical_accuracy: 0.6000\n",
      "Epoch 20/20\n",
      "639/639 [==============================] - 83s 130ms/step - loss: 0.4393 - categorical_accuracy: 0.8478 - val_loss: 0.7835 - val_categorical_accuracy: 0.8200\n"
     ]
    }
   ],
   "source": [
    "kernel=(3,3)\n",
    "model2 = models.Sequential()\n",
    "model2.add(layers.Conv2D(32, kernel,activation=\"relu\",input_shape=(150,150,3)))\n",
    "model2.add(layers.BatchNormalization())\n",
    "model2.add(layers.Dropout(.3))\n",
    "model2.add(layers.MaxPooling2D(pool_size=(2, 2)))\n",
    "model2.add(layers.Conv2D(64, kernel,activation=\"relu\",input_shape=(150,150,3)))\n",
    "model2.add(layers.BatchNormalization())\n",
    "model2.add(layers.Dropout(.3))\n",
    "model2.add(layers.MaxPooling2D(pool_size=(2, 2)))\n",
    "model2.add(layers.Conv2D(128, kernel,activation=\"relu\",input_shape=(150,150,3)))\n",
    "model2.add(layers.BatchNormalization())\n",
    "model2.add(layers.Dropout(.3))\n",
    "model2.add(layers.MaxPooling2D(pool_size=(2, 2)))\n",
    "model2.add(layers.Flatten())\n",
    "model2.add(layers.Dense(128, activation='relu'))\n",
    "model2.add(layers.Dense(6, activation='softmax'))\n",
    "\n",
    "model2.compile(loss='categorical_crossentropy', optimizer='adam', metrics=['categorical_accuracy'])\n",
    "history = model2.fit(train_gen,\n",
    "\n",
    "                     epochs=20,\n",
    "                    validation_data=valid_gen,\n",
    "                    validation_steps=10)"
   ]
  },
  {
   "cell_type": "code",
   "execution_count": 8,
   "id": "eb2176ee",
   "metadata": {},
   "outputs": [],
   "source": [
    "acc=history.history['categorical_accuracy']\n",
    "val_acc=history.history['val_categorical_accuracy']\n",
    "loss=history.history['loss']\n",
    "val_loss=history.history['val_loss']"
   ]
  },
  {
   "cell_type": "code",
   "execution_count": 9,
   "id": "229d83ec",
   "metadata": {},
   "outputs": [
    {
     "data": {
      "image/png": "[encoded data removed]",
      "text/plain": [
       "<Figure size 432x288 with 1 Axes>"
      ]
     },
     "metadata": {
      "needs_background": "light"
     },
     "output_type": "display_data"
    }
   ],
   "source": [
    "epochs=range(1,len(acc)+1)\n",
    "plt.plot(epochs,acc,'bo',label=\"train accuracy\")\n",
    "plt.plot(epochs,val_acc,'ro',label=\"val accuracy\")\n",
    "plt.legend()\n",
    "plt.show()"
   ]
  },
  {
   "cell_type": "code",
   "execution_count": 10,
   "id": "ad5ea4ef",
   "metadata": {},
   "outputs": [
    {
     "data": {
      "image/png": "[encoded data removed]",
      "text/plain": [
       "<Figure size 432x288 with 1 Axes>"
      ]
     },
     "metadata": {
      "needs_background": "light"
     },
     "output_type": "display_data"
    }
   ],
   "source": [
    "epochs=range(1,len(acc)+1)\n",
    "plt.plot(epochs,loss,'bo',label=\"train loss\")\n",
    "plt.plot(epochs,val_loss,'ro',label=\"val loss\")\n",
    "plt.legend()\n",
    "plt.show()"
   ]
  },
  {
   "cell_type": "markdown",
   "id": "db32291d",
   "metadata": {},
   "source": [
    "This model performed ok lets try a higher dropout rate of .5"
   ]
  },
  {
   "cell_type": "markdown",
   "id": "ecebd9c5",
   "metadata": {},
   "source": [
    "# Model with a dropout Rate of .5 "
   ]
  },
  {
   "cell_type": "code",
   "execution_count": 11,
   "id": "7d94ef6f",
   "metadata": {},
   "outputs": [
    {
     "name": "stdout",
     "output_type": "stream",
     "text": [
      "Epoch 1/20\n",
      "639/639 [==============================] - 87s 135ms/step - loss: 1.8437 - categorical_accuracy: 0.5135 - val_loss: 4.8570 - val_categorical_accuracy: 0.5400\n",
      "Epoch 2/20\n",
      "639/639 [==============================] - 87s 136ms/step - loss: 0.9676 - categorical_accuracy: 0.6460 - val_loss: 2.2213 - val_categorical_accuracy: 0.5600\n",
      "Epoch 3/20\n",
      "639/639 [==============================] - 86s 134ms/step - loss: 0.8226 - categorical_accuracy: 0.7033 - val_loss: 3.3807 - val_categorical_accuracy: 0.5400\n",
      "Epoch 4/20\n",
      "639/639 [==============================] - 89s 139ms/step - loss: 0.7261 - categorical_accuracy: 0.7400 - val_loss: 2.1405 - val_categorical_accuracy: 0.6200\n",
      "Epoch 5/20\n",
      "639/639 [==============================] - 87s 137ms/step - loss: 0.6977 - categorical_accuracy: 0.7530 - val_loss: 4.9550 - val_categorical_accuracy: 0.4200\n",
      "Epoch 6/20\n",
      "639/639 [==============================] - 89s 140ms/step - loss: 0.6386 - categorical_accuracy: 0.7689 - val_loss: 2.4913 - val_categorical_accuracy: 0.5600\n",
      "Epoch 7/20\n",
      "639/639 [==============================] - 85s 133ms/step - loss: 0.6238 - categorical_accuracy: 0.7818 - val_loss: 2.4997 - val_categorical_accuracy: 0.6400\n",
      "Epoch 8/20\n",
      "639/639 [==============================] - 89s 139ms/step - loss: 0.5962 - categorical_accuracy: 0.7951 - val_loss: 1.6019 - val_categorical_accuracy: 0.5600\n",
      "Epoch 9/20\n",
      "639/639 [==============================] - 90s 141ms/step - loss: 0.5727 - categorical_accuracy: 0.8030 - val_loss: 2.2259 - val_categorical_accuracy: 0.5600\n",
      "Epoch 10/20\n",
      "639/639 [==============================] - 92s 144ms/step - loss: 0.5614 - categorical_accuracy: 0.8035 - val_loss: 1.9405 - val_categorical_accuracy: 0.6600\n",
      "Epoch 11/20\n",
      "639/639 [==============================] - 89s 139ms/step - loss: 0.5399 - categorical_accuracy: 0.8112 - val_loss: 9.3111 - val_categorical_accuracy: 0.4000\n",
      "Epoch 12/20\n",
      "639/639 [==============================] - 84s 131ms/step - loss: 0.5313 - categorical_accuracy: 0.8144 - val_loss: 6.5921 - val_categorical_accuracy: 0.6400\n",
      "Epoch 13/20\n",
      "639/639 [==============================] - 84s 131ms/step - loss: 0.5141 - categorical_accuracy: 0.8231 - val_loss: 2.3635 - val_categorical_accuracy: 0.4800\n",
      "Epoch 14/20\n",
      "639/639 [==============================] - 85s 132ms/step - loss: 0.5138 - categorical_accuracy: 0.8225 - val_loss: 4.2134 - val_categorical_accuracy: 0.4000\n",
      "Epoch 15/20\n",
      "639/639 [==============================] - 82s 129ms/step - loss: 0.5016 - categorical_accuracy: 0.8267 - val_loss: 4.7334 - val_categorical_accuracy: 0.6400\n",
      "Epoch 16/20\n",
      "639/639 [==============================] - 86s 134ms/step - loss: 0.4930 - categorical_accuracy: 0.8301 - val_loss: 10.2458 - val_categorical_accuracy: 0.4200\n",
      "Epoch 17/20\n",
      "639/639 [==============================] - 86s 135ms/step - loss: 0.4952 - categorical_accuracy: 0.8307 - val_loss: 4.3887 - val_categorical_accuracy: 0.6400\n",
      "Epoch 18/20\n",
      "639/639 [==============================] - 88s 138ms/step - loss: 0.4753 - categorical_accuracy: 0.8354 - val_loss: 4.9626 - val_categorical_accuracy: 0.5800\n",
      "Epoch 19/20\n",
      "639/639 [==============================] - 90s 142ms/step - loss: 0.4567 - categorical_accuracy: 0.8416 - val_loss: 9.4475 - val_categorical_accuracy: 0.3200\n",
      "Epoch 20/20\n",
      "639/639 [==============================] - 91s 142ms/step - loss: 0.4618 - categorical_accuracy: 0.8397 - val_loss: 5.2635 - val_categorical_accuracy: 0.4200\n"
     ]
    }
   ],
   "source": [
    "kernel=(3,3)\n",
    "model2 = models.Sequential()\n",
    "model2.add(layers.Conv2D(32, kernel,activation=\"relu\",input_shape=(150,150,3)))\n",
    "model2.add(layers.BatchNormalization())\n",
    "model2.add(layers.Dropout(.5))\n",
    "model2.add(layers.MaxPooling2D(pool_size=(2, 2)))\n",
    "model2.add(layers.Conv2D(64, kernel,activation=\"relu\",input_shape=(150,150,3)))\n",
    "model2.add(layers.BatchNormalization())\n",
    "model2.add(layers.Dropout(.5))\n",
    "model2.add(layers.MaxPooling2D(pool_size=(2, 2)))\n",
    "model2.add(layers.Conv2D(128, kernel,activation=\"relu\",input_shape=(150,150,3)))\n",
    "model2.add(layers.BatchNormalization())\n",
    "model2.add(layers.Dropout(.5))\n",
    "model2.add(layers.MaxPooling2D(pool_size=(2, 2)))\n",
    "model2.add(layers.Flatten())\n",
    "model2.add(layers.Dense(128, activation='relu'))\n",
    "model2.add(layers.Dense(6, activation='softmax'))\n",
    "\n",
    "model2.compile(loss='categorical_crossentropy', optimizer='adam', metrics=['categorical_accuracy'])\n",
    "history = model2.fit(train_gen,\n",
    "\n",
    "                     epochs=20,\n",
    "                    validation_data=valid_gen,\n",
    "                    validation_steps=10)"
   ]
  },
  {
   "cell_type": "markdown",
   "id": "7dd3f537",
   "metadata": {},
   "source": [
    "That model performed poorly lets try a very simple model with only one convultion and dropout"
   ]
  },
  {
   "cell_type": "markdown",
   "id": "abe8c077",
   "metadata": {},
   "source": [
    "# Model with only one Convultion Layer and Dropout"
   ]
  },
  {
   "cell_type": "code",
   "execution_count": 15,
   "id": "638433f3",
   "metadata": {},
   "outputs": [
    {
     "name": "stdout",
     "output_type": "stream",
     "text": [
      "Epoch 1/20\n",
      "639/639 [==============================] - 85s 131ms/step - loss: 3.2663 - categorical_accuracy: 0.3317 - val_loss: 1.2005 - val_categorical_accuracy: 0.6600\n",
      "Epoch 2/20\n",
      "639/639 [==============================] - 84s 131ms/step - loss: 1.4196 - categorical_accuracy: 0.4338 - val_loss: 5.9724 - val_categorical_accuracy: 0.5000\n",
      "Epoch 3/20\n",
      "639/639 [==============================] - 84s 132ms/step - loss: 1.2120 - categorical_accuracy: 0.5058 - val_loss: 10.6838 - val_categorical_accuracy: 0.4200\n",
      "Epoch 4/20\n",
      "639/639 [==============================] - 89s 140ms/step - loss: 1.1354 - categorical_accuracy: 0.5389 - val_loss: 1.4174 - val_categorical_accuracy: 0.4400\n",
      "Epoch 5/20\n",
      "639/639 [==============================] - 83s 130ms/step - loss: 1.0989 - categorical_accuracy: 0.5505 - val_loss: 1.1132 - val_categorical_accuracy: 0.5200\n",
      "Epoch 6/20\n",
      "639/639 [==============================] - 85s 133ms/step - loss: 1.0413 - categorical_accuracy: 0.5797 - val_loss: 1.1213 - val_categorical_accuracy: 0.6200\n",
      "Epoch 7/20\n",
      "639/639 [==============================] - 83s 130ms/step - loss: 1.0259 - categorical_accuracy: 0.5941 - val_loss: 2.5999 - val_categorical_accuracy: 0.4600\n",
      "Epoch 8/20\n",
      "639/639 [==============================] - 82s 128ms/step - loss: 1.0099 - categorical_accuracy: 0.6026 - val_loss: 1.8556 - val_categorical_accuracy: 0.5400\n",
      "Epoch 9/20\n",
      "639/639 [==============================] - 85s 133ms/step - loss: 0.9881 - categorical_accuracy: 0.6129 - val_loss: 1.4805 - val_categorical_accuracy: 0.5200\n",
      "Epoch 10/20\n",
      "639/639 [==============================] - 85s 133ms/step - loss: 0.9862 - categorical_accuracy: 0.6187 - val_loss: 4.6787 - val_categorical_accuracy: 0.4400\n",
      "Epoch 11/20\n",
      "639/639 [==============================] - 85s 133ms/step - loss: 0.9740 - categorical_accuracy: 0.6156 - val_loss: 4.7124 - val_categorical_accuracy: 0.5200\n",
      "Epoch 12/20\n",
      "639/639 [==============================] - 87s 136ms/step - loss: 0.9602 - categorical_accuracy: 0.6177 - val_loss: 4.5666 - val_categorical_accuracy: 0.5800\n",
      "Epoch 13/20\n",
      "639/639 [==============================] - 82s 128ms/step - loss: 0.9553 - categorical_accuracy: 0.6304 - val_loss: 4.7025 - val_categorical_accuracy: 0.4200\n",
      "Epoch 14/20\n",
      "639/639 [==============================] - 82s 129ms/step - loss: 0.9448 - categorical_accuracy: 0.6210 - val_loss: 12.7818 - val_categorical_accuracy: 0.3400\n",
      "Epoch 15/20\n",
      "639/639 [==============================] - 83s 130ms/step - loss: 0.9484 - categorical_accuracy: 0.6300 - val_loss: 4.7971 - val_categorical_accuracy: 0.4600\n",
      "Epoch 16/20\n",
      "639/639 [==============================] - 85s 132ms/step - loss: 0.9321 - categorical_accuracy: 0.6546 - val_loss: 6.6842 - val_categorical_accuracy: 0.5000\n",
      "Epoch 17/20\n",
      "639/639 [==============================] - 83s 130ms/step - loss: 0.8851 - categorical_accuracy: 0.6715 - val_loss: 5.5116 - val_categorical_accuracy: 0.4400\n",
      "Epoch 18/20\n",
      "639/639 [==============================] - 85s 133ms/step - loss: 0.8755 - categorical_accuracy: 0.6811 - val_loss: 1.4807 - val_categorical_accuracy: 0.7000\n",
      "Epoch 19/20\n",
      "639/639 [==============================] - 89s 140ms/step - loss: 0.8635 - categorical_accuracy: 0.6842 - val_loss: 3.6882 - val_categorical_accuracy: 0.3400\n",
      "Epoch 20/20\n",
      "639/639 [==============================] - 86s 134ms/step - loss: 0.8445 - categorical_accuracy: 0.6960 - val_loss: 2.8503 - val_categorical_accuracy: 0.6800\n"
     ]
    }
   ],
   "source": [
    "kernel=(3,3)\n",
    "model2 = models.Sequential()\n",
    "model2.add(layers.Conv2D(32, kernel,activation=\"relu\",input_shape=(150,150,3)))\n",
    "model2.add(layers.BatchNormalization())\n",
    "model2.add(layers.Dropout(.3))\n",
    "model2.add(layers.MaxPooling2D(pool_size=(2, 2)))\n",
    "model2.add(layers.Flatten())\n",
    "model2.add(layers.Dense(128, activation='relu'))\n",
    "model2.add(layers.Dense(6, activation='softmax'))\n",
    "model2.compile(loss='categorical_crossentropy', optimizer='adam', metrics=['categorical_accuracy'])\n",
    "history = model2.fit(train_gen,\n",
    "\n",
    "                     epochs=20,\n",
    "                    validation_data=valid_gen,\n",
    "                    validation_steps=10)\n",
    "\n"
   ]
  },
  {
   "cell_type": "markdown",
   "id": "c784e4f0",
   "metadata": {},
   "source": [
    "lets try one convulultion and and no dropout to see if the dropout is helping at all"
   ]
  },
  {
   "cell_type": "code",
   "execution_count": 10,
   "id": "de477405",
   "metadata": {},
   "outputs": [
    {
     "name": "stdout",
     "output_type": "stream",
     "text": [
      "Epoch 1/20\n",
      "639/639 [==============================] - 84s 130ms/step - loss: 2.1594 - categorical_accuracy: 0.4596 - val_loss: 1.2131 - val_categorical_accuracy: 0.5400\n",
      "Epoch 2/20\n",
      "639/639 [==============================] - 84s 131ms/step - loss: 1.2063 - categorical_accuracy: 0.5422 - val_loss: 1.1764 - val_categorical_accuracy: 0.6000\n",
      "Epoch 3/20\n",
      "639/639 [==============================] - 86s 135ms/step - loss: 1.0416 - categorical_accuracy: 0.6035 - val_loss: 0.8054 - val_categorical_accuracy: 0.6400\n",
      "Epoch 4/20\n",
      "639/639 [==============================] - 82s 129ms/step - loss: 0.9565 - categorical_accuracy: 0.6405 - val_loss: 0.9279 - val_categorical_accuracy: 0.6800\n",
      "Epoch 5/20\n",
      "639/639 [==============================] - 82s 128ms/step - loss: 0.9025 - categorical_accuracy: 0.6622 - val_loss: 0.9105 - val_categorical_accuracy: 0.5800\n",
      "Epoch 6/20\n",
      "639/639 [==============================] - 83s 130ms/step - loss: 0.8907 - categorical_accuracy: 0.6683 - val_loss: 0.8236 - val_categorical_accuracy: 0.6800\n",
      "Epoch 7/20\n",
      "639/639 [==============================] - 83s 129ms/step - loss: 0.8689 - categorical_accuracy: 0.6752 - val_loss: 0.8508 - val_categorical_accuracy: 0.7200\n",
      "Epoch 8/20\n",
      "639/639 [==============================] - 84s 131ms/step - loss: 0.8561 - categorical_accuracy: 0.6833 - val_loss: 0.8793 - val_categorical_accuracy: 0.6600\n",
      "Epoch 9/20\n",
      "639/639 [==============================] - 83s 130ms/step - loss: 0.8482 - categorical_accuracy: 0.6880 - val_loss: 1.3423 - val_categorical_accuracy: 0.5400\n",
      "Epoch 10/20\n",
      "639/639 [==============================] - 82s 129ms/step - loss: 0.8453 - categorical_accuracy: 0.6921 - val_loss: 0.9023 - val_categorical_accuracy: 0.7200\n",
      "Epoch 11/20\n",
      "639/639 [==============================] - 83s 129ms/step - loss: 0.8298 - categorical_accuracy: 0.6950 - val_loss: 0.8661 - val_categorical_accuracy: 0.6600\n",
      "Epoch 12/20\n",
      "639/639 [==============================] - 88s 138ms/step - loss: 0.8396 - categorical_accuracy: 0.6942 - val_loss: 0.7117 - val_categorical_accuracy: 0.7800\n",
      "Epoch 13/20\n",
      "639/639 [==============================] - 82s 129ms/step - loss: 0.8088 - categorical_accuracy: 0.7065 - val_loss: 0.7240 - val_categorical_accuracy: 0.7000\n",
      "Epoch 14/20\n",
      "639/639 [==============================] - 83s 130ms/step - loss: 0.8266 - categorical_accuracy: 0.7034 - val_loss: 1.0488 - val_categorical_accuracy: 0.7000\n",
      "Epoch 15/20\n",
      "639/639 [==============================] - 83s 130ms/step - loss: 0.8169 - categorical_accuracy: 0.7046 - val_loss: 1.3909 - val_categorical_accuracy: 0.5400\n",
      "Epoch 16/20\n",
      "639/639 [==============================] - 84s 132ms/step - loss: 0.7991 - categorical_accuracy: 0.7088 - val_loss: 0.6210 - val_categorical_accuracy: 0.7800\n",
      "Epoch 17/20\n",
      "639/639 [==============================] - 81s 127ms/step - loss: 0.7831 - categorical_accuracy: 0.7190 - val_loss: 0.8274 - val_categorical_accuracy: 0.8000\n",
      "Epoch 18/20\n",
      "639/639 [==============================] - 82s 128ms/step - loss: 0.7937 - categorical_accuracy: 0.7137 - val_loss: 1.2611 - val_categorical_accuracy: 0.7200\n",
      "Epoch 19/20\n",
      "639/639 [==============================] - 83s 130ms/step - loss: 0.7899 - categorical_accuracy: 0.7184 - val_loss: 0.8106 - val_categorical_accuracy: 0.7400\n",
      "Epoch 20/20\n",
      "639/639 [==============================] - 82s 129ms/step - loss: 0.7891 - categorical_accuracy: 0.7140 - val_loss: 0.8463 - val_categorical_accuracy: 0.6000\n"
     ]
    }
   ],
   "source": [
    "kernel=(3,3)\n",
    "model2 = models.Sequential()\n",
    "model2.add(layers.Conv2D(32, kernel,activation=\"relu\",input_shape=(150,150,3)))\n",
    "model2.add(layers.BatchNormalization())\n",
    "model2.add(layers.MaxPooling2D(pool_size=(2, 2)))\n",
    "model2.add(layers.Flatten())\n",
    "model2.add(layers.Dense(64, activation='relu'))\n",
    "model2.add(layers.Dense(6, activation='softmax'))\n",
    "model2.compile(loss='categorical_crossentropy', optimizer='adam', metrics=['categorical_accuracy'])\n",
    "history = model2.fit(train_gen,\n",
    "\n",
    "                     epochs=20,\n",
    "                    validation_data=valid_gen,\n",
    "                    validation_steps=10)\n"
   ]
  },
  {
   "cell_type": "code",
   "execution_count": null,
   "id": "62a440a4",
   "metadata": {},
   "outputs": [],
   "source": []
  },
  {
   "cell_type": "code",
   "execution_count": 12,
   "id": "a2e7a003",
   "metadata": {},
   "outputs": [],
   "source": [
    "acc=history.history['categorical_accuracy']\n",
    "val_acc=history.history['val_categorical_accuracy']\n",
    "loss=history.history['loss']\n",
    "val_loss=history.history['val_loss']"
   ]
  },
  {
   "cell_type": "code",
   "execution_count": 13,
   "id": "bdde50bf",
   "metadata": {},
   "outputs": [
    {
     "data": {
      "image/png": "[encoded data removed]",
      "text/plain": [
       "<Figure size 432x288 with 1 Axes>"
      ]
     },
     "metadata": {
      "needs_background": "light"
     },
     "output_type": "display_data"
    }
   ],
   "source": [
    "epochs=range(1,len(acc)+1)\n",
    "plt.plot(epochs,acc,'bo',label=\"train accuracy\")\n",
    "plt.plot(epochs,val_acc,'ro',label=\"val accuracy\")\n",
    "plt.legend()\n",
    "plt.show()"
   ]
  },
  {
   "cell_type": "code",
   "execution_count": 14,
   "id": "44f9dd44",
   "metadata": {},
   "outputs": [
    {
     "data": {
      "image/png": "[encoded data removed]",
      "text/plain": [
       "<Figure size 432x288 with 1 Axes>"
      ]
     },
     "metadata": {
      "needs_background": "light"
     },
     "output_type": "display_data"
    }
   ],
   "source": [
    "epochs=range(1,len(acc)+1)\n",
    "plt.plot(epochs,loss,'bo',label=\"train loss\")\n",
    "plt.plot(epochs,val_loss,'ro',label=\"val loss\")\n",
    "plt.legend()\n",
    "plt.show()"
   ]
  },
  {
   "cell_type": "markdown",
   "id": "a711c2e1",
   "metadata": {},
   "source": [
    "As seen by these numbers the model is slightly underfitting lets try a 2 convultion model with dropout"
   ]
  },
  {
   "cell_type": "markdown",
   "id": "684655b4",
   "metadata": {},
   "source": [
    "# 2 Convo with dropout at rate of .3"
   ]
  },
  {
   "cell_type": "code",
   "execution_count": 6,
   "id": "05507173",
   "metadata": {},
   "outputs": [
    {
     "name": "stdout",
     "output_type": "stream",
     "text": [
      "Epoch 1/20\n",
      "639/639 [==============================] - 85s 132ms/step - loss: 2.8189 - categorical_accuracy: 0.3213 - val_loss: 2.3656 - val_categorical_accuracy: 0.4400\n",
      "Epoch 2/20\n",
      "639/639 [==============================] - 87s 136ms/step - loss: 1.3223 - categorical_accuracy: 0.4418 - val_loss: 1.2423 - val_categorical_accuracy: 0.4800\n",
      "Epoch 3/20\n",
      "639/639 [==============================] - 84s 131ms/step - loss: 1.1981 - categorical_accuracy: 0.4943 - val_loss: 3.2182 - val_categorical_accuracy: 0.4200\n",
      "Epoch 4/20\n",
      "639/639 [==============================] - 83s 129ms/step - loss: 1.0735 - categorical_accuracy: 0.5523 - val_loss: 3.0923 - val_categorical_accuracy: 0.4400\n",
      "Epoch 5/20\n",
      "639/639 [==============================] - 83s 130ms/step - loss: 0.9705 - categorical_accuracy: 0.6101 - val_loss: 5.9632 - val_categorical_accuracy: 0.3600\n",
      "Epoch 6/20\n",
      "639/639 [==============================] - 85s 133ms/step - loss: 0.9076 - categorical_accuracy: 0.6337 - val_loss: 3.8502 - val_categorical_accuracy: 0.5000\n",
      "Epoch 7/20\n",
      "639/639 [==============================] - 84s 131ms/step - loss: 0.8721 - categorical_accuracy: 0.6642 - val_loss: 0.9782 - val_categorical_accuracy: 0.6000\n",
      "Epoch 8/20\n",
      "639/639 [==============================] - 84s 131ms/step - loss: 0.8363 - categorical_accuracy: 0.6873 - val_loss: 1.3457 - val_categorical_accuracy: 0.6600\n",
      "Epoch 9/20\n",
      "639/639 [==============================] - 83s 130ms/step - loss: 0.7766 - categorical_accuracy: 0.7188 - val_loss: 1.4128 - val_categorical_accuracy: 0.6200\n",
      "Epoch 10/20\n",
      "639/639 [==============================] - 84s 132ms/step - loss: 0.7401 - categorical_accuracy: 0.7370 - val_loss: 1.2595 - val_categorical_accuracy: 0.6600\n",
      "Epoch 11/20\n",
      "639/639 [==============================] - 82s 128ms/step - loss: 0.7124 - categorical_accuracy: 0.7412 - val_loss: 2.1096 - val_categorical_accuracy: 0.6600\n",
      "Epoch 12/20\n",
      "639/639 [==============================] - 81s 127ms/step - loss: 0.6895 - categorical_accuracy: 0.7535 - val_loss: 11.6187 - val_categorical_accuracy: 0.4200\n",
      "Epoch 13/20\n",
      "639/639 [==============================] - 81s 126ms/step - loss: 0.6748 - categorical_accuracy: 0.7616 - val_loss: 17.8099 - val_categorical_accuracy: 0.3600\n",
      "Epoch 14/20\n",
      "639/639 [==============================] - 81s 127ms/step - loss: 0.6496 - categorical_accuracy: 0.7638 - val_loss: 4.1228 - val_categorical_accuracy: 0.6000\n",
      "Epoch 15/20\n",
      "639/639 [==============================] - 81s 127ms/step - loss: 0.6666 - categorical_accuracy: 0.7660 - val_loss: 6.2837 - val_categorical_accuracy: 0.5200\n",
      "Epoch 16/20\n",
      "639/639 [==============================] - 81s 127ms/step - loss: 0.6436 - categorical_accuracy: 0.7771 - val_loss: 12.5347 - val_categorical_accuracy: 0.4400\n",
      "Epoch 17/20\n",
      "639/639 [==============================] - 81s 127ms/step - loss: 0.6184 - categorical_accuracy: 0.7878 - val_loss: 5.2014 - val_categorical_accuracy: 0.6000\n",
      "Epoch 18/20\n",
      "639/639 [==============================] - 81s 127ms/step - loss: 0.6082 - categorical_accuracy: 0.7858 - val_loss: 1.7654 - val_categorical_accuracy: 0.6600\n",
      "Epoch 19/20\n",
      "639/639 [==============================] - 81s 127ms/step - loss: 0.5805 - categorical_accuracy: 0.7964 - val_loss: 3.9189 - val_categorical_accuracy: 0.6600\n",
      "Epoch 20/20\n",
      "639/639 [==============================] - 81s 127ms/step - loss: 0.5734 - categorical_accuracy: 0.7991 - val_loss: 5.3840 - val_categorical_accuracy: 0.6800\n"
     ]
    }
   ],
   "source": [
    "kernel=(3,3)\n",
    "model2 = models.Sequential()\n",
    "model2.add(layers.Conv2D(32, kernel,activation=\"relu\",input_shape=(150,150,3)))\n",
    "model2.add(layers.BatchNormalization())\n",
    "model2.add(layers.Dropout(.3))\n",
    "model2.add(layers.MaxPooling2D(pool_size=(2, 2)))\n",
    "model2.add(layers.Conv2D(64, kernel,activation=\"relu\",input_shape=(150,150,3)))\n",
    "model2.add(layers.BatchNormalization())\n",
    "model2.add(layers.Dropout(.3))\n",
    "model2.add(layers.MaxPooling2D(pool_size=(2, 2)))\n",
    "model2.add(layers.Flatten())\n",
    "model2.add(layers.Dense(128, activation='relu'))\n",
    "model2.add(layers.Dense(6, activation='softmax'))\n",
    "model2.compile(loss='categorical_crossentropy', optimizer='adam', metrics=['categorical_accuracy'])\n",
    "history = model2.fit(train_gen,\n",
    "\n",
    "                     epochs=20,\n",
    "                    validation_data=valid_gen,\n",
    "                    validation_steps=10)\n"
   ]
  },
  {
   "cell_type": "markdown",
   "id": "5a57070b",
   "metadata": {},
   "source": [
    "This model seems to perform poorly lets try a model without dropout to see how the two compare."
   ]
  },
  {
   "cell_type": "code",
   "execution_count": 7,
   "id": "06b328fd",
   "metadata": {},
   "outputs": [
    {
     "name": "stdout",
     "output_type": "stream",
     "text": [
      "Epoch 1/20\n",
      "639/639 [==============================] - 83s 128ms/step - loss: 2.3763 - categorical_accuracy: 0.4657 - val_loss: 0.9193 - val_categorical_accuracy: 0.6600\n",
      "Epoch 2/20\n",
      "639/639 [==============================] - 81s 127ms/step - loss: 1.0919 - categorical_accuracy: 0.5841 - val_loss: 0.8579 - val_categorical_accuracy: 0.6600\n",
      "Epoch 3/20\n",
      "639/639 [==============================] - 81s 126ms/step - loss: 0.9712 - categorical_accuracy: 0.6193 - val_loss: 1.1837 - val_categorical_accuracy: 0.5000\n",
      "Epoch 4/20\n",
      "639/639 [==============================] - 80s 125ms/step - loss: 0.9659 - categorical_accuracy: 0.6333 - val_loss: 1.0275 - val_categorical_accuracy: 0.5200\n",
      "Epoch 5/20\n",
      "639/639 [==============================] - 82s 128ms/step - loss: 0.9033 - categorical_accuracy: 0.6562 - val_loss: 0.8256 - val_categorical_accuracy: 0.7000\n",
      "Epoch 6/20\n",
      "639/639 [==============================] - 81s 127ms/step - loss: 0.8044 - categorical_accuracy: 0.7032 - val_loss: 0.9949 - val_categorical_accuracy: 0.6200\n",
      "Epoch 7/20\n",
      "639/639 [==============================] - 82s 128ms/step - loss: 0.7641 - categorical_accuracy: 0.7363 - val_loss: 2.0510 - val_categorical_accuracy: 0.7000\n",
      "Epoch 8/20\n",
      "639/639 [==============================] - 82s 128ms/step - loss: 0.7142 - categorical_accuracy: 0.7541 - val_loss: 0.5822 - val_categorical_accuracy: 0.8400\n",
      "Epoch 9/20\n",
      "639/639 [==============================] - 82s 128ms/step - loss: 0.7047 - categorical_accuracy: 0.7588 - val_loss: 0.5846 - val_categorical_accuracy: 0.7800\n",
      "Epoch 10/20\n",
      "639/639 [==============================] - 80s 126ms/step - loss: 0.6712 - categorical_accuracy: 0.7723 - val_loss: 0.7717 - val_categorical_accuracy: 0.7000\n",
      "Epoch 11/20\n",
      "639/639 [==============================] - 82s 129ms/step - loss: 0.6556 - categorical_accuracy: 0.7793 - val_loss: 1.9938 - val_categorical_accuracy: 0.3600\n",
      "Epoch 12/20\n",
      "639/639 [==============================] - 82s 128ms/step - loss: 0.6460 - categorical_accuracy: 0.7794 - val_loss: 0.6138 - val_categorical_accuracy: 0.8400\n",
      "Epoch 13/20\n",
      "639/639 [==============================] - 80s 125ms/step - loss: 0.6193 - categorical_accuracy: 0.7884 - val_loss: 1.0134 - val_categorical_accuracy: 0.6400\n",
      "Epoch 14/20\n",
      "639/639 [==============================] - 81s 127ms/step - loss: 0.6250 - categorical_accuracy: 0.7880 - val_loss: 0.8122 - val_categorical_accuracy: 0.7600\n",
      "Epoch 15/20\n",
      "639/639 [==============================] - 81s 126ms/step - loss: 0.5926 - categorical_accuracy: 0.7981 - val_loss: 0.9777 - val_categorical_accuracy: 0.6600\n",
      "Epoch 16/20\n",
      "639/639 [==============================] - 80s 126ms/step - loss: 0.5915 - categorical_accuracy: 0.7996 - val_loss: 0.4264 - val_categorical_accuracy: 0.8600\n",
      "Epoch 17/20\n",
      "639/639 [==============================] - 82s 128ms/step - loss: 0.5680 - categorical_accuracy: 0.8075 - val_loss: 0.6271 - val_categorical_accuracy: 0.7800\n",
      "Epoch 18/20\n",
      "639/639 [==============================] - 81s 127ms/step - loss: 0.5787 - categorical_accuracy: 0.8020 - val_loss: 0.8336 - val_categorical_accuracy: 0.7000\n",
      "Epoch 19/20\n",
      "639/639 [==============================] - 81s 126ms/step - loss: 0.5611 - categorical_accuracy: 0.8088 - val_loss: 0.8684 - val_categorical_accuracy: 0.7200\n",
      "Epoch 20/20\n",
      "639/639 [==============================] - 83s 129ms/step - loss: 0.5644 - categorical_accuracy: 0.8129 - val_loss: 5.8700 - val_categorical_accuracy: 0.5400\n"
     ]
    }
   ],
   "source": [
    "kernel=(3,3)\n",
    "model2 = models.Sequential()\n",
    "model2.add(layers.Conv2D(32, kernel,activation=\"relu\",input_shape=(150,150,3)))\n",
    "model2.add(layers.BatchNormalization())\n",
    "model2.add(layers.MaxPooling2D(pool_size=(2, 2)))\n",
    "model2.add(layers.Conv2D(64, kernel,activation=\"relu\",input_shape=(150,150,3)))\n",
    "model2.add(layers.BatchNormalization())\n",
    "model2.add(layers.MaxPooling2D(pool_size=(2, 2)))\n",
    "model2.add(layers.Flatten())\n",
    "model2.add(layers.Dense(128, activation='relu'))\n",
    "model2.add(layers.Dense(6, activation='softmax'))\n",
    "model2.compile(loss='categorical_crossentropy', optimizer='adam', metrics=['categorical_accuracy'])\n",
    "history = model2.fit(train_gen,\n",
    "\n",
    "                     epochs=20,\n",
    "                    validation_data=valid_gen,\n",
    "                    validation_steps=10)\n"
   ]
  },
  {
   "cell_type": "code",
   "execution_count": 12,
   "id": "697241f9",
   "metadata": {},
   "outputs": [
    {
     "name": "stdout",
     "output_type": "stream",
     "text": [
      "INFO:tensorflow:Assets written to: saved_model/model2ConvoBatchNorm\\assets\n"
     ]
    }
   ],
   "source": [
    "acc=history.history['categorical_accuracy']\n",
    "val_acc=history.history['val_categorical_accuracy']\n",
    "loss=history.history['loss']\n",
    "val_loss=history.history['val_loss']\n",
    "model2.save('saved_model/model2ConvoBatchNorm')"
   ]
  },
  {
   "cell_type": "code",
   "execution_count": 9,
   "id": "fc80857f",
   "metadata": {},
   "outputs": [
    {
     "data": {
      "image/png": "[encoded data removed]",
      "text/plain": [
       "<Figure size 432x288 with 1 Axes>"
      ]
     },
     "metadata": {
      "needs_background": "light"
     },
     "output_type": "display_data"
    }
   ],
   "source": [
    "epochs=range(1,len(acc)+1)\n",
    "plt.plot(epochs,acc,'bo',label=\"train accuracy\")\n",
    "plt.plot(epochs,val_acc,'ro',label=\"val accuracy\")\n",
    "plt.legend()\n",
    "plt.show()"
   ]
  },
  {
   "cell_type": "code",
   "execution_count": 10,
   "id": "487bb250",
   "metadata": {},
   "outputs": [
    {
     "data": {
      "image/png": "[encoded data removed]",
      "text/plain": [
       "<Figure size 432x288 with 1 Axes>"
      ]
     },
     "metadata": {
      "needs_background": "light"
     },
     "output_type": "display_data"
    }
   ],
   "source": [
    "epochs=range(1,len(acc)+1)\n",
    "plt.plot(epochs,loss,'bo',label=\"train loss\")\n",
    "plt.plot(epochs,val_loss,'ro',label=\"val loss\")\n",
    "plt.legend()\n",
    "plt.show()"
   ]
  },
  {
   "cell_type": "markdown",
   "id": "3f919e77",
   "metadata": {},
   "source": [
    "As seen by the plots a model with 2 convolutions, batch normaliztion and no dropout is slightly worse than the similar model tested before with 3 convolutions"
   ]
  },
  {
   "cell_type": "markdown",
   "id": "d55425b5",
   "metadata": {},
   "source": []
  },
  {
   "cell_type": "code",
   "execution_count": null,
   "id": "613348ab",
   "metadata": {},
   "outputs": [],
   "source": []
  }
 ],
 "metadata": {
  "kernelspec": {
   "display_name": "Python 3 (ipykernel)",
   "language": "python",
   "name": "python3"
  },
  "language_info": {
   "codemirror_mode": {
    "name": "ipython",
    "version": 3
   },
   "file_extension": ".py",
   "mimetype": "text/x-python",
   "name": "python",
   "nbconvert_exporter": "python",
   "pygments_lexer": "ipython3",
   "version": "3.9.7"
  }
 },
 "nbformat": 4,
 "nbformat_minor": 5
}
